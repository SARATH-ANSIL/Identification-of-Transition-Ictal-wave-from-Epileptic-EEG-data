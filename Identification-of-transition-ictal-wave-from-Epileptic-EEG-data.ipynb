{
  "cells": [
    {
      "metadata": {
        "trusted": true,
        "_uuid": "87d159a308dde25e6f89f58501552945f4c261cf",
        "_kg_hide-input": true,
        "id": "f6aCb8QWgfDe"
      },
      "cell_type": "code",
      "source": [
        "import numpy as np\n",
        "import matplotlib.pyplot as plt\n",
        "import pandas as pd\n",
        "import seaborn as sn"
      ],
      "execution_count": null,
      "outputs": []
    },
    {
      "metadata": {
        "trusted": true,
        "_uuid": "ffb826c5e8da301b74c3a0161e7dcc079fec03ce",
        "_kg_hide-input": true,
        "id": "1lL9aUUZgfDe"
      },
      "cell_type": "code",
      "source": [
        "ESR = pd.read_csv('Epileptic Seizure Recognition.csv')"
      ],
      "execution_count": null,
      "outputs": []
    },
    {
      "metadata": {
        "trusted": true,
        "_uuid": "98727073fd4a8acefbbe53251f25fe30986f1e2f",
        "_kg_hide-input": true,
        "colab": {
          "base_uri": "https://localhost:8080/",
          "height": 235
        },
        "id": "KnQ7nVLlgfDf",
        "outputId": "0cb01376-a57f-4f91-8424-686c722034cf"
      },
      "cell_type": "code",
      "source": [
        "ESR.head()"
      ],
      "execution_count": null,
      "outputs": [
        {
          "output_type": "execute_result",
          "data": {
            "text/plain": [
              "      Unnamed   X1   X2   X3   X4   X5   X6   X7   X8   X9  ...  X170  X171  \\\n",
              "0  X21.V1.791  135  190  229  223  192  125   55   -9  -33  ...   -17   -15   \n",
              "1  X15.V1.924  386  382  356  331  320  315  307  272  244  ...   164   150   \n",
              "2     X8.V1.1  -32  -39  -47  -37  -32  -36  -57  -73  -85  ...    57    64   \n",
              "3   X16.V1.60 -105 -101  -96  -92  -89  -95 -102 -100  -87  ...   -82   -81   \n",
              "4   X20.V1.54   -9  -65  -98 -102  -78  -48  -16    0  -21  ...     4     2   \n",
              "\n",
              "   X172  X173  X174  X175  X176  X177  X178  y  \n",
              "0   -31   -77  -103  -127  -116   -83   -51  4  \n",
              "1   146   152   157   156   154   143   129  1  \n",
              "2    48    19   -12   -30   -35   -35   -36  5  \n",
              "3   -80   -77   -85   -77   -72   -69   -65  5  \n",
              "4   -12   -32   -41   -65   -83   -89   -73  5  \n",
              "\n",
              "[5 rows x 180 columns]"
            ],
            "text/html": [
              "\n",
              "  <div id=\"df-bec180b9-13bd-4e57-875f-beaa5729a118\" class=\"colab-df-container\">\n",
              "    <div>\n",
              "<style scoped>\n",
              "    .dataframe tbody tr th:only-of-type {\n",
              "        vertical-align: middle;\n",
              "    }\n",
              "\n",
              "    .dataframe tbody tr th {\n",
              "        vertical-align: top;\n",
              "    }\n",
              "\n",
              "    .dataframe thead th {\n",
              "        text-align: right;\n",
              "    }\n",
              "</style>\n",
              "<table border=\"1\" class=\"dataframe\">\n",
              "  <thead>\n",
              "    <tr style=\"text-align: right;\">\n",
              "      <th></th>\n",
              "      <th>Unnamed</th>\n",
              "      <th>X1</th>\n",
              "      <th>X2</th>\n",
              "      <th>X3</th>\n",
              "      <th>X4</th>\n",
              "      <th>X5</th>\n",
              "      <th>X6</th>\n",
              "      <th>X7</th>\n",
              "      <th>X8</th>\n",
              "      <th>X9</th>\n",
              "      <th>...</th>\n",
              "      <th>X170</th>\n",
              "      <th>X171</th>\n",
              "      <th>X172</th>\n",
              "      <th>X173</th>\n",
              "      <th>X174</th>\n",
              "      <th>X175</th>\n",
              "      <th>X176</th>\n",
              "      <th>X177</th>\n",
              "      <th>X178</th>\n",
              "      <th>y</th>\n",
              "    </tr>\n",
              "  </thead>\n",
              "  <tbody>\n",
              "    <tr>\n",
              "      <th>0</th>\n",
              "      <td>X21.V1.791</td>\n",
              "      <td>135</td>\n",
              "      <td>190</td>\n",
              "      <td>229</td>\n",
              "      <td>223</td>\n",
              "      <td>192</td>\n",
              "      <td>125</td>\n",
              "      <td>55</td>\n",
              "      <td>-9</td>\n",
              "      <td>-33</td>\n",
              "      <td>...</td>\n",
              "      <td>-17</td>\n",
              "      <td>-15</td>\n",
              "      <td>-31</td>\n",
              "      <td>-77</td>\n",
              "      <td>-103</td>\n",
              "      <td>-127</td>\n",
              "      <td>-116</td>\n",
              "      <td>-83</td>\n",
              "      <td>-51</td>\n",
              "      <td>4</td>\n",
              "    </tr>\n",
              "    <tr>\n",
              "      <th>1</th>\n",
              "      <td>X15.V1.924</td>\n",
              "      <td>386</td>\n",
              "      <td>382</td>\n",
              "      <td>356</td>\n",
              "      <td>331</td>\n",
              "      <td>320</td>\n",
              "      <td>315</td>\n",
              "      <td>307</td>\n",
              "      <td>272</td>\n",
              "      <td>244</td>\n",
              "      <td>...</td>\n",
              "      <td>164</td>\n",
              "      <td>150</td>\n",
              "      <td>146</td>\n",
              "      <td>152</td>\n",
              "      <td>157</td>\n",
              "      <td>156</td>\n",
              "      <td>154</td>\n",
              "      <td>143</td>\n",
              "      <td>129</td>\n",
              "      <td>1</td>\n",
              "    </tr>\n",
              "    <tr>\n",
              "      <th>2</th>\n",
              "      <td>X8.V1.1</td>\n",
              "      <td>-32</td>\n",
              "      <td>-39</td>\n",
              "      <td>-47</td>\n",
              "      <td>-37</td>\n",
              "      <td>-32</td>\n",
              "      <td>-36</td>\n",
              "      <td>-57</td>\n",
              "      <td>-73</td>\n",
              "      <td>-85</td>\n",
              "      <td>...</td>\n",
              "      <td>57</td>\n",
              "      <td>64</td>\n",
              "      <td>48</td>\n",
              "      <td>19</td>\n",
              "      <td>-12</td>\n",
              "      <td>-30</td>\n",
              "      <td>-35</td>\n",
              "      <td>-35</td>\n",
              "      <td>-36</td>\n",
              "      <td>5</td>\n",
              "    </tr>\n",
              "    <tr>\n",
              "      <th>3</th>\n",
              "      <td>X16.V1.60</td>\n",
              "      <td>-105</td>\n",
              "      <td>-101</td>\n",
              "      <td>-96</td>\n",
              "      <td>-92</td>\n",
              "      <td>-89</td>\n",
              "      <td>-95</td>\n",
              "      <td>-102</td>\n",
              "      <td>-100</td>\n",
              "      <td>-87</td>\n",
              "      <td>...</td>\n",
              "      <td>-82</td>\n",
              "      <td>-81</td>\n",
              "      <td>-80</td>\n",
              "      <td>-77</td>\n",
              "      <td>-85</td>\n",
              "      <td>-77</td>\n",
              "      <td>-72</td>\n",
              "      <td>-69</td>\n",
              "      <td>-65</td>\n",
              "      <td>5</td>\n",
              "    </tr>\n",
              "    <tr>\n",
              "      <th>4</th>\n",
              "      <td>X20.V1.54</td>\n",
              "      <td>-9</td>\n",
              "      <td>-65</td>\n",
              "      <td>-98</td>\n",
              "      <td>-102</td>\n",
              "      <td>-78</td>\n",
              "      <td>-48</td>\n",
              "      <td>-16</td>\n",
              "      <td>0</td>\n",
              "      <td>-21</td>\n",
              "      <td>...</td>\n",
              "      <td>4</td>\n",
              "      <td>2</td>\n",
              "      <td>-12</td>\n",
              "      <td>-32</td>\n",
              "      <td>-41</td>\n",
              "      <td>-65</td>\n",
              "      <td>-83</td>\n",
              "      <td>-89</td>\n",
              "      <td>-73</td>\n",
              "      <td>5</td>\n",
              "    </tr>\n",
              "  </tbody>\n",
              "</table>\n",
              "<p>5 rows × 180 columns</p>\n",
              "</div>\n",
              "    <div class=\"colab-df-buttons\">\n",
              "\n",
              "  <div class=\"colab-df-container\">\n",
              "    <button class=\"colab-df-convert\" onclick=\"convertToInteractive('df-bec180b9-13bd-4e57-875f-beaa5729a118')\"\n",
              "            title=\"Convert this dataframe to an interactive table.\"\n",
              "            style=\"display:none;\">\n",
              "\n",
              "  <svg xmlns=\"http://www.w3.org/2000/svg\" height=\"24px\" viewBox=\"0 -960 960 960\">\n",
              "    <path d=\"M120-120v-720h720v720H120Zm60-500h600v-160H180v160Zm220 220h160v-160H400v160Zm0 220h160v-160H400v160ZM180-400h160v-160H180v160Zm440 0h160v-160H620v160ZM180-180h160v-160H180v160Zm440 0h160v-160H620v160Z\"/>\n",
              "  </svg>\n",
              "    </button>\n",
              "\n",
              "  <style>\n",
              "    .colab-df-container {\n",
              "      display:flex;\n",
              "      gap: 12px;\n",
              "    }\n",
              "\n",
              "    .colab-df-convert {\n",
              "      background-color: #E8F0FE;\n",
              "      border: none;\n",
              "      border-radius: 50%;\n",
              "      cursor: pointer;\n",
              "      display: none;\n",
              "      fill: #1967D2;\n",
              "      height: 32px;\n",
              "      padding: 0 0 0 0;\n",
              "      width: 32px;\n",
              "    }\n",
              "\n",
              "    .colab-df-convert:hover {\n",
              "      background-color: #E2EBFA;\n",
              "      box-shadow: 0px 1px 2px rgba(60, 64, 67, 0.3), 0px 1px 3px 1px rgba(60, 64, 67, 0.15);\n",
              "      fill: #174EA6;\n",
              "    }\n",
              "\n",
              "    .colab-df-buttons div {\n",
              "      margin-bottom: 4px;\n",
              "    }\n",
              "\n",
              "    [theme=dark] .colab-df-convert {\n",
              "      background-color: #3B4455;\n",
              "      fill: #D2E3FC;\n",
              "    }\n",
              "\n",
              "    [theme=dark] .colab-df-convert:hover {\n",
              "      background-color: #434B5C;\n",
              "      box-shadow: 0px 1px 3px 1px rgba(0, 0, 0, 0.15);\n",
              "      filter: drop-shadow(0px 1px 2px rgba(0, 0, 0, 0.3));\n",
              "      fill: #FFFFFF;\n",
              "    }\n",
              "  </style>\n",
              "\n",
              "    <script>\n",
              "      const buttonEl =\n",
              "        document.querySelector('#df-bec180b9-13bd-4e57-875f-beaa5729a118 button.colab-df-convert');\n",
              "      buttonEl.style.display =\n",
              "        google.colab.kernel.accessAllowed ? 'block' : 'none';\n",
              "\n",
              "      async function convertToInteractive(key) {\n",
              "        const element = document.querySelector('#df-bec180b9-13bd-4e57-875f-beaa5729a118');\n",
              "        const dataTable =\n",
              "          await google.colab.kernel.invokeFunction('convertToInteractive',\n",
              "                                                    [key], {});\n",
              "        if (!dataTable) return;\n",
              "\n",
              "        const docLinkHtml = 'Like what you see? Visit the ' +\n",
              "          '<a target=\"_blank\" href=https://colab.research.google.com/notebooks/data_table.ipynb>data table notebook</a>'\n",
              "          + ' to learn more about interactive tables.';\n",
              "        element.innerHTML = '';\n",
              "        dataTable['output_type'] = 'display_data';\n",
              "        await google.colab.output.renderOutput(dataTable, element);\n",
              "        const docLink = document.createElement('div');\n",
              "        docLink.innerHTML = docLinkHtml;\n",
              "        element.appendChild(docLink);\n",
              "      }\n",
              "    </script>\n",
              "  </div>\n",
              "\n",
              "\n",
              "<div id=\"df-6cd9d657-5239-4dae-9f0c-0558e1e9bf90\">\n",
              "  <button class=\"colab-df-quickchart\" onclick=\"quickchart('df-6cd9d657-5239-4dae-9f0c-0558e1e9bf90')\"\n",
              "            title=\"Suggest charts\"\n",
              "            style=\"display:none;\">\n",
              "\n",
              "<svg xmlns=\"http://www.w3.org/2000/svg\" height=\"24px\"viewBox=\"0 0 24 24\"\n",
              "     width=\"24px\">\n",
              "    <g>\n",
              "        <path d=\"M19 3H5c-1.1 0-2 .9-2 2v14c0 1.1.9 2 2 2h14c1.1 0 2-.9 2-2V5c0-1.1-.9-2-2-2zM9 17H7v-7h2v7zm4 0h-2V7h2v10zm4 0h-2v-4h2v4z\"/>\n",
              "    </g>\n",
              "</svg>\n",
              "  </button>\n",
              "\n",
              "<style>\n",
              "  .colab-df-quickchart {\n",
              "      --bg-color: #E8F0FE;\n",
              "      --fill-color: #1967D2;\n",
              "      --hover-bg-color: #E2EBFA;\n",
              "      --hover-fill-color: #174EA6;\n",
              "      --disabled-fill-color: #AAA;\n",
              "      --disabled-bg-color: #DDD;\n",
              "  }\n",
              "\n",
              "  [theme=dark] .colab-df-quickchart {\n",
              "      --bg-color: #3B4455;\n",
              "      --fill-color: #D2E3FC;\n",
              "      --hover-bg-color: #434B5C;\n",
              "      --hover-fill-color: #FFFFFF;\n",
              "      --disabled-bg-color: #3B4455;\n",
              "      --disabled-fill-color: #666;\n",
              "  }\n",
              "\n",
              "  .colab-df-quickchart {\n",
              "    background-color: var(--bg-color);\n",
              "    border: none;\n",
              "    border-radius: 50%;\n",
              "    cursor: pointer;\n",
              "    display: none;\n",
              "    fill: var(--fill-color);\n",
              "    height: 32px;\n",
              "    padding: 0;\n",
              "    width: 32px;\n",
              "  }\n",
              "\n",
              "  .colab-df-quickchart:hover {\n",
              "    background-color: var(--hover-bg-color);\n",
              "    box-shadow: 0 1px 2px rgba(60, 64, 67, 0.3), 0 1px 3px 1px rgba(60, 64, 67, 0.15);\n",
              "    fill: var(--button-hover-fill-color);\n",
              "  }\n",
              "\n",
              "  .colab-df-quickchart-complete:disabled,\n",
              "  .colab-df-quickchart-complete:disabled:hover {\n",
              "    background-color: var(--disabled-bg-color);\n",
              "    fill: var(--disabled-fill-color);\n",
              "    box-shadow: none;\n",
              "  }\n",
              "\n",
              "  .colab-df-spinner {\n",
              "    border: 2px solid var(--fill-color);\n",
              "    border-color: transparent;\n",
              "    border-bottom-color: var(--fill-color);\n",
              "    animation:\n",
              "      spin 1s steps(1) infinite;\n",
              "  }\n",
              "\n",
              "  @keyframes spin {\n",
              "    0% {\n",
              "      border-color: transparent;\n",
              "      border-bottom-color: var(--fill-color);\n",
              "      border-left-color: var(--fill-color);\n",
              "    }\n",
              "    20% {\n",
              "      border-color: transparent;\n",
              "      border-left-color: var(--fill-color);\n",
              "      border-top-color: var(--fill-color);\n",
              "    }\n",
              "    30% {\n",
              "      border-color: transparent;\n",
              "      border-left-color: var(--fill-color);\n",
              "      border-top-color: var(--fill-color);\n",
              "      border-right-color: var(--fill-color);\n",
              "    }\n",
              "    40% {\n",
              "      border-color: transparent;\n",
              "      border-right-color: var(--fill-color);\n",
              "      border-top-color: var(--fill-color);\n",
              "    }\n",
              "    60% {\n",
              "      border-color: transparent;\n",
              "      border-right-color: var(--fill-color);\n",
              "    }\n",
              "    80% {\n",
              "      border-color: transparent;\n",
              "      border-right-color: var(--fill-color);\n",
              "      border-bottom-color: var(--fill-color);\n",
              "    }\n",
              "    90% {\n",
              "      border-color: transparent;\n",
              "      border-bottom-color: var(--fill-color);\n",
              "    }\n",
              "  }\n",
              "</style>\n",
              "\n",
              "  <script>\n",
              "    async function quickchart(key) {\n",
              "      const quickchartButtonEl =\n",
              "        document.querySelector('#' + key + ' button');\n",
              "      quickchartButtonEl.disabled = true;  // To prevent multiple clicks.\n",
              "      quickchartButtonEl.classList.add('colab-df-spinner');\n",
              "      try {\n",
              "        const charts = await google.colab.kernel.invokeFunction(\n",
              "            'suggestCharts', [key], {});\n",
              "      } catch (error) {\n",
              "        console.error('Error during call to suggestCharts:', error);\n",
              "      }\n",
              "      quickchartButtonEl.classList.remove('colab-df-spinner');\n",
              "      quickchartButtonEl.classList.add('colab-df-quickchart-complete');\n",
              "    }\n",
              "    (() => {\n",
              "      let quickchartButtonEl =\n",
              "        document.querySelector('#df-6cd9d657-5239-4dae-9f0c-0558e1e9bf90 button');\n",
              "      quickchartButtonEl.style.display =\n",
              "        google.colab.kernel.accessAllowed ? 'block' : 'none';\n",
              "    })();\n",
              "  </script>\n",
              "</div>\n",
              "    </div>\n",
              "  </div>\n"
            ],
            "application/vnd.google.colaboratory.intrinsic+json": {
              "type": "dataframe",
              "variable_name": "ESR"
            }
          },
          "metadata": {},
          "execution_count": 3
        }
      ]
    },
    {
      "metadata": {
        "_kg_hide-input": true,
        "trusted": true,
        "_uuid": "17c90c1ff8add7ace30bd8d2cfb1fa5cb48c0e48",
        "colab": {
          "base_uri": "https://localhost:8080/",
          "height": 529
        },
        "id": "SGVAMNsYgfDf",
        "outputId": "167e6754-6c95-47d7-d6ca-0517390b4ec3"
      },
      "cell_type": "code",
      "source": [
        "cols = ESR.columns\n",
        "tgt = ESR.y\n",
        "tgt[tgt>1]=0\n",
        "ax = sn.countplot(tgt,label=\"Count\")\n",
        "non_seizure, seizure = tgt.value_counts()\n",
        "print('The number of trials for the non-seizure class is:', non_seizure)\n",
        "print('The number of trials for the seizure class is:', seizure)"
      ],
      "execution_count": null,
      "outputs": [
        {
          "output_type": "stream",
          "name": "stderr",
          "text": [
            "<ipython-input-4-ede7aa9cc3d7>:3: SettingWithCopyWarning: \n",
            "A value is trying to be set on a copy of a slice from a DataFrame\n",
            "\n",
            "See the caveats in the documentation: https://pandas.pydata.org/pandas-docs/stable/user_guide/indexing.html#returning-a-view-versus-a-copy\n",
            "  tgt[tgt>1]=0\n"
          ]
        },
        {
          "output_type": "stream",
          "name": "stdout",
          "text": [
            "The number of trials for the non-seizure class is: 9200\n",
            "The number of trials for the seizure class is: 2300\n",
            "Error in callback <function flush_figures at 0x798c054183a0> (for post_execute):\n"
          ]
        },
        {
          "output_type": "error",
          "ename": "KeyboardInterrupt",
          "evalue": "",
          "traceback": [
            "\u001b[0;31m---------------------------------------------------------------------------\u001b[0m",
            "\u001b[0;31mKeyboardInterrupt\u001b[0m                         Traceback (most recent call last)",
            "\u001b[0;32m/usr/local/lib/python3.10/dist-packages/matplotlib_inline/backend_inline.py\u001b[0m in \u001b[0;36mflush_figures\u001b[0;34m()\u001b[0m\n\u001b[1;32m    124\u001b[0m             \u001b[0;31m# ignore the tracking, just draw and close all figures\u001b[0m\u001b[0;34m\u001b[0m\u001b[0;34m\u001b[0m\u001b[0m\n\u001b[1;32m    125\u001b[0m             \u001b[0;32mtry\u001b[0m\u001b[0;34m:\u001b[0m\u001b[0;34m\u001b[0m\u001b[0;34m\u001b[0m\u001b[0m\n\u001b[0;32m--> 126\u001b[0;31m                 \u001b[0;32mreturn\u001b[0m \u001b[0mshow\u001b[0m\u001b[0;34m(\u001b[0m\u001b[0;32mTrue\u001b[0m\u001b[0;34m)\u001b[0m\u001b[0;34m\u001b[0m\u001b[0;34m\u001b[0m\u001b[0m\n\u001b[0m\u001b[1;32m    127\u001b[0m             \u001b[0;32mexcept\u001b[0m \u001b[0mException\u001b[0m \u001b[0;32mas\u001b[0m \u001b[0me\u001b[0m\u001b[0;34m:\u001b[0m\u001b[0;34m\u001b[0m\u001b[0;34m\u001b[0m\u001b[0m\n\u001b[1;32m    128\u001b[0m                 \u001b[0;31m# safely show traceback if in IPython, else raise\u001b[0m\u001b[0;34m\u001b[0m\u001b[0;34m\u001b[0m\u001b[0m\n",
            "\u001b[0;32m/usr/local/lib/python3.10/dist-packages/matplotlib_inline/backend_inline.py\u001b[0m in \u001b[0;36mshow\u001b[0;34m(close, block)\u001b[0m\n\u001b[1;32m     88\u001b[0m     \u001b[0;32mtry\u001b[0m\u001b[0;34m:\u001b[0m\u001b[0;34m\u001b[0m\u001b[0;34m\u001b[0m\u001b[0m\n\u001b[1;32m     89\u001b[0m         \u001b[0;32mfor\u001b[0m \u001b[0mfigure_manager\u001b[0m \u001b[0;32min\u001b[0m \u001b[0mGcf\u001b[0m\u001b[0;34m.\u001b[0m\u001b[0mget_all_fig_managers\u001b[0m\u001b[0;34m(\u001b[0m\u001b[0;34m)\u001b[0m\u001b[0;34m:\u001b[0m\u001b[0;34m\u001b[0m\u001b[0;34m\u001b[0m\u001b[0m\n\u001b[0;32m---> 90\u001b[0;31m             display(\n\u001b[0m\u001b[1;32m     91\u001b[0m                 \u001b[0mfigure_manager\u001b[0m\u001b[0;34m.\u001b[0m\u001b[0mcanvas\u001b[0m\u001b[0;34m.\u001b[0m\u001b[0mfigure\u001b[0m\u001b[0;34m,\u001b[0m\u001b[0;34m\u001b[0m\u001b[0;34m\u001b[0m\u001b[0m\n\u001b[1;32m     92\u001b[0m                 \u001b[0mmetadata\u001b[0m\u001b[0;34m=\u001b[0m\u001b[0m_fetch_figure_metadata\u001b[0m\u001b[0;34m(\u001b[0m\u001b[0mfigure_manager\u001b[0m\u001b[0;34m.\u001b[0m\u001b[0mcanvas\u001b[0m\u001b[0;34m.\u001b[0m\u001b[0mfigure\u001b[0m\u001b[0;34m)\u001b[0m\u001b[0;34m\u001b[0m\u001b[0;34m\u001b[0m\u001b[0m\n",
            "\u001b[0;32m/usr/local/lib/python3.10/dist-packages/IPython/core/display.py\u001b[0m in \u001b[0;36mdisplay\u001b[0;34m(include, exclude, metadata, transient, display_id, *objs, **kwargs)\u001b[0m\n\u001b[1;32m    318\u001b[0m             \u001b[0mpublish_display_data\u001b[0m\u001b[0;34m(\u001b[0m\u001b[0mdata\u001b[0m\u001b[0;34m=\u001b[0m\u001b[0mobj\u001b[0m\u001b[0;34m,\u001b[0m \u001b[0mmetadata\u001b[0m\u001b[0;34m=\u001b[0m\u001b[0mmetadata\u001b[0m\u001b[0;34m,\u001b[0m \u001b[0;34m**\u001b[0m\u001b[0mkwargs\u001b[0m\u001b[0;34m)\u001b[0m\u001b[0;34m\u001b[0m\u001b[0;34m\u001b[0m\u001b[0m\n\u001b[1;32m    319\u001b[0m         \u001b[0;32melse\u001b[0m\u001b[0;34m:\u001b[0m\u001b[0;34m\u001b[0m\u001b[0;34m\u001b[0m\u001b[0m\n\u001b[0;32m--> 320\u001b[0;31m             \u001b[0mformat_dict\u001b[0m\u001b[0;34m,\u001b[0m \u001b[0mmd_dict\u001b[0m \u001b[0;34m=\u001b[0m \u001b[0mformat\u001b[0m\u001b[0;34m(\u001b[0m\u001b[0mobj\u001b[0m\u001b[0;34m,\u001b[0m \u001b[0minclude\u001b[0m\u001b[0;34m=\u001b[0m\u001b[0minclude\u001b[0m\u001b[0;34m,\u001b[0m \u001b[0mexclude\u001b[0m\u001b[0;34m=\u001b[0m\u001b[0mexclude\u001b[0m\u001b[0;34m)\u001b[0m\u001b[0;34m\u001b[0m\u001b[0;34m\u001b[0m\u001b[0m\n\u001b[0m\u001b[1;32m    321\u001b[0m             \u001b[0;32mif\u001b[0m \u001b[0;32mnot\u001b[0m \u001b[0mformat_dict\u001b[0m\u001b[0;34m:\u001b[0m\u001b[0;34m\u001b[0m\u001b[0;34m\u001b[0m\u001b[0m\n\u001b[1;32m    322\u001b[0m                 \u001b[0;31m# nothing to display (e.g. _ipython_display_ took over)\u001b[0m\u001b[0;34m\u001b[0m\u001b[0;34m\u001b[0m\u001b[0m\n",
            "\u001b[0;32m/usr/local/lib/python3.10/dist-packages/IPython/core/formatters.py\u001b[0m in \u001b[0;36mformat\u001b[0;34m(self, obj, include, exclude)\u001b[0m\n\u001b[1;32m    178\u001b[0m             \u001b[0mmd\u001b[0m \u001b[0;34m=\u001b[0m \u001b[0;32mNone\u001b[0m\u001b[0;34m\u001b[0m\u001b[0;34m\u001b[0m\u001b[0m\n\u001b[1;32m    179\u001b[0m             \u001b[0;32mtry\u001b[0m\u001b[0;34m:\u001b[0m\u001b[0;34m\u001b[0m\u001b[0;34m\u001b[0m\u001b[0m\n\u001b[0;32m--> 180\u001b[0;31m                 \u001b[0mdata\u001b[0m \u001b[0;34m=\u001b[0m \u001b[0mformatter\u001b[0m\u001b[0;34m(\u001b[0m\u001b[0mobj\u001b[0m\u001b[0;34m)\u001b[0m\u001b[0;34m\u001b[0m\u001b[0;34m\u001b[0m\u001b[0m\n\u001b[0m\u001b[1;32m    181\u001b[0m             \u001b[0;32mexcept\u001b[0m\u001b[0;34m:\u001b[0m\u001b[0;34m\u001b[0m\u001b[0;34m\u001b[0m\u001b[0m\n\u001b[1;32m    182\u001b[0m                 \u001b[0;31m# FIXME: log the exception\u001b[0m\u001b[0;34m\u001b[0m\u001b[0;34m\u001b[0m\u001b[0m\n",
            "\u001b[0;32m<decorator-gen-2>\u001b[0m in \u001b[0;36m__call__\u001b[0;34m(self, obj)\u001b[0m\n",
            "\u001b[0;32m/usr/local/lib/python3.10/dist-packages/IPython/core/formatters.py\u001b[0m in \u001b[0;36mcatch_format_error\u001b[0;34m(method, self, *args, **kwargs)\u001b[0m\n\u001b[1;32m    222\u001b[0m     \u001b[0;34m\"\"\"show traceback on failed format call\"\"\"\u001b[0m\u001b[0;34m\u001b[0m\u001b[0;34m\u001b[0m\u001b[0m\n\u001b[1;32m    223\u001b[0m     \u001b[0;32mtry\u001b[0m\u001b[0;34m:\u001b[0m\u001b[0;34m\u001b[0m\u001b[0;34m\u001b[0m\u001b[0m\n\u001b[0;32m--> 224\u001b[0;31m         \u001b[0mr\u001b[0m \u001b[0;34m=\u001b[0m \u001b[0mmethod\u001b[0m\u001b[0;34m(\u001b[0m\u001b[0mself\u001b[0m\u001b[0;34m,\u001b[0m \u001b[0;34m*\u001b[0m\u001b[0margs\u001b[0m\u001b[0;34m,\u001b[0m \u001b[0;34m**\u001b[0m\u001b[0mkwargs\u001b[0m\u001b[0;34m)\u001b[0m\u001b[0;34m\u001b[0m\u001b[0;34m\u001b[0m\u001b[0m\n\u001b[0m\u001b[1;32m    225\u001b[0m     \u001b[0;32mexcept\u001b[0m \u001b[0mNotImplementedError\u001b[0m\u001b[0;34m:\u001b[0m\u001b[0;34m\u001b[0m\u001b[0;34m\u001b[0m\u001b[0m\n\u001b[1;32m    226\u001b[0m         \u001b[0;31m# don't warn on NotImplementedErrors\u001b[0m\u001b[0;34m\u001b[0m\u001b[0;34m\u001b[0m\u001b[0m\n",
            "\u001b[0;32m/usr/local/lib/python3.10/dist-packages/IPython/core/formatters.py\u001b[0m in \u001b[0;36m__call__\u001b[0;34m(self, obj)\u001b[0m\n\u001b[1;32m    339\u001b[0m                 \u001b[0;32mpass\u001b[0m\u001b[0;34m\u001b[0m\u001b[0;34m\u001b[0m\u001b[0m\n\u001b[1;32m    340\u001b[0m             \u001b[0;32melse\u001b[0m\u001b[0;34m:\u001b[0m\u001b[0;34m\u001b[0m\u001b[0;34m\u001b[0m\u001b[0m\n\u001b[0;32m--> 341\u001b[0;31m                 \u001b[0;32mreturn\u001b[0m \u001b[0mprinter\u001b[0m\u001b[0;34m(\u001b[0m\u001b[0mobj\u001b[0m\u001b[0;34m)\u001b[0m\u001b[0;34m\u001b[0m\u001b[0;34m\u001b[0m\u001b[0m\n\u001b[0m\u001b[1;32m    342\u001b[0m             \u001b[0;31m# Finally look for special method names\u001b[0m\u001b[0;34m\u001b[0m\u001b[0;34m\u001b[0m\u001b[0m\n\u001b[1;32m    343\u001b[0m             \u001b[0mmethod\u001b[0m \u001b[0;34m=\u001b[0m \u001b[0mget_real_method\u001b[0m\u001b[0;34m(\u001b[0m\u001b[0mobj\u001b[0m\u001b[0;34m,\u001b[0m \u001b[0mself\u001b[0m\u001b[0;34m.\u001b[0m\u001b[0mprint_method\u001b[0m\u001b[0;34m)\u001b[0m\u001b[0;34m\u001b[0m\u001b[0;34m\u001b[0m\u001b[0m\n",
            "\u001b[0;32m/usr/local/lib/python3.10/dist-packages/IPython/core/pylabtools.py\u001b[0m in \u001b[0;36mprint_figure\u001b[0;34m(fig, fmt, bbox_inches, base64, **kwargs)\u001b[0m\n\u001b[1;32m    149\u001b[0m         \u001b[0mFigureCanvasBase\u001b[0m\u001b[0;34m(\u001b[0m\u001b[0mfig\u001b[0m\u001b[0;34m)\u001b[0m\u001b[0;34m\u001b[0m\u001b[0;34m\u001b[0m\u001b[0m\n\u001b[1;32m    150\u001b[0m \u001b[0;34m\u001b[0m\u001b[0m\n\u001b[0;32m--> 151\u001b[0;31m     \u001b[0mfig\u001b[0m\u001b[0;34m.\u001b[0m\u001b[0mcanvas\u001b[0m\u001b[0;34m.\u001b[0m\u001b[0mprint_figure\u001b[0m\u001b[0;34m(\u001b[0m\u001b[0mbytes_io\u001b[0m\u001b[0;34m,\u001b[0m \u001b[0;34m**\u001b[0m\u001b[0mkw\u001b[0m\u001b[0;34m)\u001b[0m\u001b[0;34m\u001b[0m\u001b[0;34m\u001b[0m\u001b[0m\n\u001b[0m\u001b[1;32m    152\u001b[0m     \u001b[0mdata\u001b[0m \u001b[0;34m=\u001b[0m \u001b[0mbytes_io\u001b[0m\u001b[0;34m.\u001b[0m\u001b[0mgetvalue\u001b[0m\u001b[0;34m(\u001b[0m\u001b[0;34m)\u001b[0m\u001b[0;34m\u001b[0m\u001b[0;34m\u001b[0m\u001b[0m\n\u001b[1;32m    153\u001b[0m     \u001b[0;32mif\u001b[0m \u001b[0mfmt\u001b[0m \u001b[0;34m==\u001b[0m \u001b[0;34m'svg'\u001b[0m\u001b[0;34m:\u001b[0m\u001b[0;34m\u001b[0m\u001b[0;34m\u001b[0m\u001b[0m\n",
            "\u001b[0;32m/usr/local/lib/python3.10/dist-packages/matplotlib/backend_bases.py\u001b[0m in \u001b[0;36mprint_figure\u001b[0;34m(self, filename, dpi, facecolor, edgecolor, orientation, format, bbox_inches, pad_inches, bbox_extra_artists, backend, **kwargs)\u001b[0m\n\u001b[1;32m   2344\u001b[0m             \u001b[0;32mif\u001b[0m \u001b[0mbbox_inches\u001b[0m\u001b[0;34m:\u001b[0m\u001b[0;34m\u001b[0m\u001b[0;34m\u001b[0m\u001b[0m\n\u001b[1;32m   2345\u001b[0m                 \u001b[0;32mif\u001b[0m \u001b[0mbbox_inches\u001b[0m \u001b[0;34m==\u001b[0m \u001b[0;34m\"tight\"\u001b[0m\u001b[0;34m:\u001b[0m\u001b[0;34m\u001b[0m\u001b[0;34m\u001b[0m\u001b[0m\n\u001b[0;32m-> 2346\u001b[0;31m                     bbox_inches = self.figure.get_tightbbox(\n\u001b[0m\u001b[1;32m   2347\u001b[0m                         renderer, bbox_extra_artists=bbox_extra_artists)\n\u001b[1;32m   2348\u001b[0m                     \u001b[0;32mif\u001b[0m \u001b[0mpad_inches\u001b[0m \u001b[0;32mis\u001b[0m \u001b[0;32mNone\u001b[0m\u001b[0;34m:\u001b[0m\u001b[0;34m\u001b[0m\u001b[0;34m\u001b[0m\u001b[0m\n",
            "\u001b[0;32m/usr/local/lib/python3.10/dist-packages/matplotlib/figure.py\u001b[0m in \u001b[0;36mget_tightbbox\u001b[0;34m(self, renderer, bbox_extra_artists)\u001b[0m\n\u001b[1;32m   1742\u001b[0m \u001b[0;34m\u001b[0m\u001b[0m\n\u001b[1;32m   1743\u001b[0m         \u001b[0;32mfor\u001b[0m \u001b[0ma\u001b[0m \u001b[0;32min\u001b[0m \u001b[0martists\u001b[0m\u001b[0;34m:\u001b[0m\u001b[0;34m\u001b[0m\u001b[0;34m\u001b[0m\u001b[0m\n\u001b[0;32m-> 1744\u001b[0;31m             \u001b[0mbbox\u001b[0m \u001b[0;34m=\u001b[0m \u001b[0ma\u001b[0m\u001b[0;34m.\u001b[0m\u001b[0mget_tightbbox\u001b[0m\u001b[0;34m(\u001b[0m\u001b[0mrenderer\u001b[0m\u001b[0;34m)\u001b[0m\u001b[0;34m\u001b[0m\u001b[0;34m\u001b[0m\u001b[0m\n\u001b[0m\u001b[1;32m   1745\u001b[0m             \u001b[0;32mif\u001b[0m \u001b[0mbbox\u001b[0m \u001b[0;32mis\u001b[0m \u001b[0;32mnot\u001b[0m \u001b[0;32mNone\u001b[0m\u001b[0;34m:\u001b[0m\u001b[0;34m\u001b[0m\u001b[0;34m\u001b[0m\u001b[0m\n\u001b[1;32m   1746\u001b[0m                 \u001b[0mbb\u001b[0m\u001b[0;34m.\u001b[0m\u001b[0mappend\u001b[0m\u001b[0;34m(\u001b[0m\u001b[0mbbox\u001b[0m\u001b[0;34m)\u001b[0m\u001b[0;34m\u001b[0m\u001b[0;34m\u001b[0m\u001b[0m\n",
            "\u001b[0;32m/usr/local/lib/python3.10/dist-packages/matplotlib/axes/_base.py\u001b[0m in \u001b[0;36mget_tightbbox\u001b[0;34m(self, renderer, call_axes_locator, bbox_extra_artists, for_layout_only)\u001b[0m\n\u001b[1;32m   4383\u001b[0m         \u001b[0;32mfor\u001b[0m \u001b[0maxis\u001b[0m \u001b[0;32min\u001b[0m \u001b[0mself\u001b[0m\u001b[0;34m.\u001b[0m\u001b[0m_axis_map\u001b[0m\u001b[0;34m.\u001b[0m\u001b[0mvalues\u001b[0m\u001b[0;34m(\u001b[0m\u001b[0;34m)\u001b[0m\u001b[0;34m:\u001b[0m\u001b[0;34m\u001b[0m\u001b[0;34m\u001b[0m\u001b[0m\n\u001b[1;32m   4384\u001b[0m             \u001b[0;32mif\u001b[0m \u001b[0mself\u001b[0m\u001b[0;34m.\u001b[0m\u001b[0maxison\u001b[0m \u001b[0;32mand\u001b[0m \u001b[0maxis\u001b[0m\u001b[0;34m.\u001b[0m\u001b[0mget_visible\u001b[0m\u001b[0;34m(\u001b[0m\u001b[0;34m)\u001b[0m\u001b[0;34m:\u001b[0m\u001b[0;34m\u001b[0m\u001b[0;34m\u001b[0m\u001b[0m\n\u001b[0;32m-> 4385\u001b[0;31m                 \u001b[0mba\u001b[0m \u001b[0;34m=\u001b[0m \u001b[0mmartist\u001b[0m\u001b[0;34m.\u001b[0m\u001b[0m_get_tightbbox_for_layout_only\u001b[0m\u001b[0;34m(\u001b[0m\u001b[0maxis\u001b[0m\u001b[0;34m,\u001b[0m \u001b[0mrenderer\u001b[0m\u001b[0;34m)\u001b[0m\u001b[0;34m\u001b[0m\u001b[0;34m\u001b[0m\u001b[0m\n\u001b[0m\u001b[1;32m   4386\u001b[0m                 \u001b[0;32mif\u001b[0m \u001b[0mba\u001b[0m\u001b[0;34m:\u001b[0m\u001b[0;34m\u001b[0m\u001b[0;34m\u001b[0m\u001b[0m\n\u001b[1;32m   4387\u001b[0m                     \u001b[0mbb\u001b[0m\u001b[0;34m.\u001b[0m\u001b[0mappend\u001b[0m\u001b[0;34m(\u001b[0m\u001b[0mba\u001b[0m\u001b[0;34m)\u001b[0m\u001b[0;34m\u001b[0m\u001b[0;34m\u001b[0m\u001b[0m\n",
            "\u001b[0;32m/usr/local/lib/python3.10/dist-packages/matplotlib/artist.py\u001b[0m in \u001b[0;36m_get_tightbbox_for_layout_only\u001b[0;34m(obj, *args, **kwargs)\u001b[0m\n\u001b[1;32m   1413\u001b[0m     \"\"\"\n\u001b[1;32m   1414\u001b[0m     \u001b[0;32mtry\u001b[0m\u001b[0;34m:\u001b[0m\u001b[0;34m\u001b[0m\u001b[0;34m\u001b[0m\u001b[0m\n\u001b[0;32m-> 1415\u001b[0;31m         \u001b[0;32mreturn\u001b[0m \u001b[0mobj\u001b[0m\u001b[0;34m.\u001b[0m\u001b[0mget_tightbbox\u001b[0m\u001b[0;34m(\u001b[0m\u001b[0;34m*\u001b[0m\u001b[0margs\u001b[0m\u001b[0;34m,\u001b[0m \u001b[0;34m**\u001b[0m\u001b[0;34m{\u001b[0m\u001b[0;34m**\u001b[0m\u001b[0mkwargs\u001b[0m\u001b[0;34m,\u001b[0m \u001b[0;34m\"for_layout_only\"\u001b[0m\u001b[0;34m:\u001b[0m \u001b[0;32mTrue\u001b[0m\u001b[0;34m}\u001b[0m\u001b[0;34m)\u001b[0m\u001b[0;34m\u001b[0m\u001b[0;34m\u001b[0m\u001b[0m\n\u001b[0m\u001b[1;32m   1416\u001b[0m     \u001b[0;32mexcept\u001b[0m \u001b[0mTypeError\u001b[0m\u001b[0;34m:\u001b[0m\u001b[0;34m\u001b[0m\u001b[0;34m\u001b[0m\u001b[0m\n\u001b[1;32m   1417\u001b[0m         \u001b[0;32mreturn\u001b[0m \u001b[0mobj\u001b[0m\u001b[0;34m.\u001b[0m\u001b[0mget_tightbbox\u001b[0m\u001b[0;34m(\u001b[0m\u001b[0;34m*\u001b[0m\u001b[0margs\u001b[0m\u001b[0;34m,\u001b[0m \u001b[0;34m**\u001b[0m\u001b[0mkwargs\u001b[0m\u001b[0;34m)\u001b[0m\u001b[0;34m\u001b[0m\u001b[0;34m\u001b[0m\u001b[0m\n",
            "\u001b[0;32m/usr/local/lib/python3.10/dist-packages/matplotlib/axis.py\u001b[0m in \u001b[0;36mget_tightbbox\u001b[0;34m(self, renderer, for_layout_only)\u001b[0m\n\u001b[1;32m   1354\u001b[0m                   if 0 < b.width < np.inf and 0 < b.height < np.inf]\n\u001b[1;32m   1355\u001b[0m         \u001b[0;32mif\u001b[0m \u001b[0mbboxes\u001b[0m\u001b[0;34m:\u001b[0m\u001b[0;34m\u001b[0m\u001b[0;34m\u001b[0m\u001b[0m\n\u001b[0;32m-> 1356\u001b[0;31m             \u001b[0;32mreturn\u001b[0m \u001b[0mmtransforms\u001b[0m\u001b[0;34m.\u001b[0m\u001b[0mBbox\u001b[0m\u001b[0;34m.\u001b[0m\u001b[0munion\u001b[0m\u001b[0;34m(\u001b[0m\u001b[0mbboxes\u001b[0m\u001b[0;34m)\u001b[0m\u001b[0;34m\u001b[0m\u001b[0;34m\u001b[0m\u001b[0m\n\u001b[0m\u001b[1;32m   1357\u001b[0m         \u001b[0;32melse\u001b[0m\u001b[0;34m:\u001b[0m\u001b[0;34m\u001b[0m\u001b[0;34m\u001b[0m\u001b[0m\n\u001b[1;32m   1358\u001b[0m             \u001b[0;32mreturn\u001b[0m \u001b[0;32mNone\u001b[0m\u001b[0;34m\u001b[0m\u001b[0;34m\u001b[0m\u001b[0m\n",
            "\u001b[0;32m/usr/local/lib/python3.10/dist-packages/matplotlib/transforms.py\u001b[0m in \u001b[0;36munion\u001b[0;34m(bboxes)\u001b[0m\n\u001b[1;32m    653\u001b[0m             \u001b[0;32mraise\u001b[0m \u001b[0mValueError\u001b[0m\u001b[0;34m(\u001b[0m\u001b[0;34m\"'bboxes' cannot be empty\"\u001b[0m\u001b[0;34m)\u001b[0m\u001b[0;34m\u001b[0m\u001b[0;34m\u001b[0m\u001b[0m\n\u001b[1;32m    654\u001b[0m         \u001b[0mx0\u001b[0m \u001b[0;34m=\u001b[0m \u001b[0mnp\u001b[0m\u001b[0;34m.\u001b[0m\u001b[0mmin\u001b[0m\u001b[0;34m(\u001b[0m\u001b[0;34m[\u001b[0m\u001b[0mbbox\u001b[0m\u001b[0;34m.\u001b[0m\u001b[0mxmin\u001b[0m \u001b[0;32mfor\u001b[0m \u001b[0mbbox\u001b[0m \u001b[0;32min\u001b[0m \u001b[0mbboxes\u001b[0m\u001b[0;34m]\u001b[0m\u001b[0;34m)\u001b[0m\u001b[0;34m\u001b[0m\u001b[0;34m\u001b[0m\u001b[0m\n\u001b[0;32m--> 655\u001b[0;31m         \u001b[0mx1\u001b[0m \u001b[0;34m=\u001b[0m \u001b[0mnp\u001b[0m\u001b[0;34m.\u001b[0m\u001b[0mmax\u001b[0m\u001b[0;34m(\u001b[0m\u001b[0;34m[\u001b[0m\u001b[0mbbox\u001b[0m\u001b[0;34m.\u001b[0m\u001b[0mxmax\u001b[0m \u001b[0;32mfor\u001b[0m \u001b[0mbbox\u001b[0m \u001b[0;32min\u001b[0m \u001b[0mbboxes\u001b[0m\u001b[0;34m]\u001b[0m\u001b[0;34m)\u001b[0m\u001b[0;34m\u001b[0m\u001b[0;34m\u001b[0m\u001b[0m\n\u001b[0m\u001b[1;32m    656\u001b[0m         \u001b[0my0\u001b[0m \u001b[0;34m=\u001b[0m \u001b[0mnp\u001b[0m\u001b[0;34m.\u001b[0m\u001b[0mmin\u001b[0m\u001b[0;34m(\u001b[0m\u001b[0;34m[\u001b[0m\u001b[0mbbox\u001b[0m\u001b[0;34m.\u001b[0m\u001b[0mymin\u001b[0m \u001b[0;32mfor\u001b[0m \u001b[0mbbox\u001b[0m \u001b[0;32min\u001b[0m \u001b[0mbboxes\u001b[0m\u001b[0;34m]\u001b[0m\u001b[0;34m)\u001b[0m\u001b[0;34m\u001b[0m\u001b[0;34m\u001b[0m\u001b[0m\n\u001b[1;32m    657\u001b[0m         \u001b[0my1\u001b[0m \u001b[0;34m=\u001b[0m \u001b[0mnp\u001b[0m\u001b[0;34m.\u001b[0m\u001b[0mmax\u001b[0m\u001b[0;34m(\u001b[0m\u001b[0;34m[\u001b[0m\u001b[0mbbox\u001b[0m\u001b[0;34m.\u001b[0m\u001b[0mymax\u001b[0m \u001b[0;32mfor\u001b[0m \u001b[0mbbox\u001b[0m \u001b[0;32min\u001b[0m \u001b[0mbboxes\u001b[0m\u001b[0;34m]\u001b[0m\u001b[0;34m)\u001b[0m\u001b[0;34m\u001b[0m\u001b[0;34m\u001b[0m\u001b[0m\n",
            "\u001b[0;32m/usr/local/lib/python3.10/dist-packages/matplotlib/transforms.py\u001b[0m in \u001b[0;36m<listcomp>\u001b[0;34m(.0)\u001b[0m\n\u001b[1;32m    653\u001b[0m             \u001b[0;32mraise\u001b[0m \u001b[0mValueError\u001b[0m\u001b[0;34m(\u001b[0m\u001b[0;34m\"'bboxes' cannot be empty\"\u001b[0m\u001b[0;34m)\u001b[0m\u001b[0;34m\u001b[0m\u001b[0;34m\u001b[0m\u001b[0m\n\u001b[1;32m    654\u001b[0m         \u001b[0mx0\u001b[0m \u001b[0;34m=\u001b[0m \u001b[0mnp\u001b[0m\u001b[0;34m.\u001b[0m\u001b[0mmin\u001b[0m\u001b[0;34m(\u001b[0m\u001b[0;34m[\u001b[0m\u001b[0mbbox\u001b[0m\u001b[0;34m.\u001b[0m\u001b[0mxmin\u001b[0m \u001b[0;32mfor\u001b[0m \u001b[0mbbox\u001b[0m \u001b[0;32min\u001b[0m \u001b[0mbboxes\u001b[0m\u001b[0;34m]\u001b[0m\u001b[0;34m)\u001b[0m\u001b[0;34m\u001b[0m\u001b[0;34m\u001b[0m\u001b[0m\n\u001b[0;32m--> 655\u001b[0;31m         \u001b[0mx1\u001b[0m \u001b[0;34m=\u001b[0m \u001b[0mnp\u001b[0m\u001b[0;34m.\u001b[0m\u001b[0mmax\u001b[0m\u001b[0;34m(\u001b[0m\u001b[0;34m[\u001b[0m\u001b[0mbbox\u001b[0m\u001b[0;34m.\u001b[0m\u001b[0mxmax\u001b[0m \u001b[0;32mfor\u001b[0m \u001b[0mbbox\u001b[0m \u001b[0;32min\u001b[0m \u001b[0mbboxes\u001b[0m\u001b[0;34m]\u001b[0m\u001b[0;34m)\u001b[0m\u001b[0;34m\u001b[0m\u001b[0;34m\u001b[0m\u001b[0m\n\u001b[0m\u001b[1;32m    656\u001b[0m         \u001b[0my0\u001b[0m \u001b[0;34m=\u001b[0m \u001b[0mnp\u001b[0m\u001b[0;34m.\u001b[0m\u001b[0mmin\u001b[0m\u001b[0;34m(\u001b[0m\u001b[0;34m[\u001b[0m\u001b[0mbbox\u001b[0m\u001b[0;34m.\u001b[0m\u001b[0mymin\u001b[0m \u001b[0;32mfor\u001b[0m \u001b[0mbbox\u001b[0m \u001b[0;32min\u001b[0m \u001b[0mbboxes\u001b[0m\u001b[0;34m]\u001b[0m\u001b[0;34m)\u001b[0m\u001b[0;34m\u001b[0m\u001b[0;34m\u001b[0m\u001b[0m\n\u001b[1;32m    657\u001b[0m         \u001b[0my1\u001b[0m \u001b[0;34m=\u001b[0m \u001b[0mnp\u001b[0m\u001b[0;34m.\u001b[0m\u001b[0mmax\u001b[0m\u001b[0;34m(\u001b[0m\u001b[0;34m[\u001b[0m\u001b[0mbbox\u001b[0m\u001b[0;34m.\u001b[0m\u001b[0mymax\u001b[0m \u001b[0;32mfor\u001b[0m \u001b[0mbbox\u001b[0m \u001b[0;32min\u001b[0m \u001b[0mbboxes\u001b[0m\u001b[0;34m]\u001b[0m\u001b[0;34m)\u001b[0m\u001b[0;34m\u001b[0m\u001b[0;34m\u001b[0m\u001b[0m\n",
            "\u001b[0;32m/usr/local/lib/python3.10/dist-packages/matplotlib/transforms.py\u001b[0m in \u001b[0;36mxmax\u001b[0;34m(self)\u001b[0m\n\u001b[1;32m    324\u001b[0m     \u001b[0;32mdef\u001b[0m \u001b[0mxmax\u001b[0m\u001b[0;34m(\u001b[0m\u001b[0mself\u001b[0m\u001b[0;34m)\u001b[0m\u001b[0;34m:\u001b[0m\u001b[0;34m\u001b[0m\u001b[0;34m\u001b[0m\u001b[0m\n\u001b[1;32m    325\u001b[0m         \u001b[0;34m\"\"\"The right edge of the bounding box.\"\"\"\u001b[0m\u001b[0;34m\u001b[0m\u001b[0;34m\u001b[0m\u001b[0m\n\u001b[0;32m--> 326\u001b[0;31m         \u001b[0;32mreturn\u001b[0m \u001b[0mnp\u001b[0m\u001b[0;34m.\u001b[0m\u001b[0mmax\u001b[0m\u001b[0;34m(\u001b[0m\u001b[0mself\u001b[0m\u001b[0;34m.\u001b[0m\u001b[0mget_points\u001b[0m\u001b[0;34m(\u001b[0m\u001b[0;34m)\u001b[0m\u001b[0;34m[\u001b[0m\u001b[0;34m:\u001b[0m\u001b[0;34m,\u001b[0m \u001b[0;36m0\u001b[0m\u001b[0;34m]\u001b[0m\u001b[0;34m)\u001b[0m\u001b[0;34m\u001b[0m\u001b[0;34m\u001b[0m\u001b[0m\n\u001b[0m\u001b[1;32m    327\u001b[0m \u001b[0;34m\u001b[0m\u001b[0m\n\u001b[1;32m    328\u001b[0m     \u001b[0;34m@\u001b[0m\u001b[0mproperty\u001b[0m\u001b[0;34m\u001b[0m\u001b[0;34m\u001b[0m\u001b[0m\n",
            "\u001b[0;32m/usr/local/lib/python3.10/dist-packages/numpy/core/fromnumeric.py\u001b[0m in \u001b[0;36mmax\u001b[0;34m(a, axis, out, keepdims, initial, where)\u001b[0m\n\u001b[1;32m   2808\u001b[0m     \u001b[0;36m5\u001b[0m\u001b[0;34m\u001b[0m\u001b[0;34m\u001b[0m\u001b[0m\n\u001b[1;32m   2809\u001b[0m     \"\"\"\n\u001b[0;32m-> 2810\u001b[0;31m     return _wrapreduction(a, np.maximum, 'max', axis, None, out,\n\u001b[0m\u001b[1;32m   2811\u001b[0m                           keepdims=keepdims, initial=initial, where=where)\n\u001b[1;32m   2812\u001b[0m \u001b[0;34m\u001b[0m\u001b[0m\n",
            "\u001b[0;32m/usr/local/lib/python3.10/dist-packages/numpy/core/fromnumeric.py\u001b[0m in \u001b[0;36m_wrapreduction\u001b[0;34m(obj, ufunc, method, axis, dtype, out, **kwargs)\u001b[0m\n\u001b[1;32m     86\u001b[0m                 \u001b[0;32mreturn\u001b[0m \u001b[0mreduction\u001b[0m\u001b[0;34m(\u001b[0m\u001b[0maxis\u001b[0m\u001b[0;34m=\u001b[0m\u001b[0maxis\u001b[0m\u001b[0;34m,\u001b[0m \u001b[0mout\u001b[0m\u001b[0;34m=\u001b[0m\u001b[0mout\u001b[0m\u001b[0;34m,\u001b[0m \u001b[0;34m**\u001b[0m\u001b[0mpasskwargs\u001b[0m\u001b[0;34m)\u001b[0m\u001b[0;34m\u001b[0m\u001b[0;34m\u001b[0m\u001b[0m\n\u001b[1;32m     87\u001b[0m \u001b[0;34m\u001b[0m\u001b[0m\n\u001b[0;32m---> 88\u001b[0;31m     \u001b[0;32mreturn\u001b[0m \u001b[0mufunc\u001b[0m\u001b[0;34m.\u001b[0m\u001b[0mreduce\u001b[0m\u001b[0;34m(\u001b[0m\u001b[0mobj\u001b[0m\u001b[0;34m,\u001b[0m \u001b[0maxis\u001b[0m\u001b[0;34m,\u001b[0m \u001b[0mdtype\u001b[0m\u001b[0;34m,\u001b[0m \u001b[0mout\u001b[0m\u001b[0;34m,\u001b[0m \u001b[0;34m**\u001b[0m\u001b[0mpasskwargs\u001b[0m\u001b[0;34m)\u001b[0m\u001b[0;34m\u001b[0m\u001b[0;34m\u001b[0m\u001b[0m\n\u001b[0m\u001b[1;32m     89\u001b[0m \u001b[0;34m\u001b[0m\u001b[0m\n\u001b[1;32m     90\u001b[0m \u001b[0;34m\u001b[0m\u001b[0m\n",
            "\u001b[0;31mKeyboardInterrupt\u001b[0m: "
          ]
        }
      ]
    },
    {
      "metadata": {
        "_kg_hide-input": true,
        "trusted": true,
        "_uuid": "aad4b40423e626080316e9baf284b7ee75b64d08",
        "colab": {
          "base_uri": "https://localhost:8080/"
        },
        "id": "vwyoslaBgfDg",
        "outputId": "7ccb3a60-ad98-4a72-8e6e-2a7574d6689c"
      },
      "cell_type": "code",
      "source": [
        "ESR.isnull().sum()"
      ],
      "execution_count": null,
      "outputs": [
        {
          "output_type": "execute_result",
          "data": {
            "text/plain": [
              "Unnamed    0\n",
              "X1         0\n",
              "X2         0\n",
              "X3         0\n",
              "X4         0\n",
              "          ..\n",
              "X175       0\n",
              "X176       0\n",
              "X177       0\n",
              "X178       0\n",
              "y          0\n",
              "Length: 180, dtype: int64"
            ]
          },
          "metadata": {},
          "execution_count": 6
        }
      ]
    },
    {
      "metadata": {
        "_kg_hide-input": true,
        "trusted": true,
        "_uuid": "e88bcff9f978e728a07d29bd99eee000ec0e3bcc",
        "colab": {
          "base_uri": "https://localhost:8080/"
        },
        "id": "nyA3-o4XgfDh",
        "outputId": "cdad6d84-f4a5-4eb7-e5ac-f2167c0dffa5"
      },
      "cell_type": "code",
      "source": [
        "ESR.info()"
      ],
      "execution_count": null,
      "outputs": [
        {
          "output_type": "stream",
          "name": "stdout",
          "text": [
            "<class 'pandas.core.frame.DataFrame'>\n",
            "RangeIndex: 11500 entries, 0 to 11499\n",
            "Columns: 180 entries, Unnamed to y\n",
            "dtypes: int64(179), object(1)\n",
            "memory usage: 15.8+ MB\n"
          ]
        }
      ]
    },
    {
      "metadata": {
        "_kg_hide-input": true,
        "trusted": true,
        "_uuid": "c59e74a086f2f41b14f793b599f0938cdab43704",
        "colab": {
          "base_uri": "https://localhost:8080/",
          "height": 349
        },
        "id": "Dh8PnR0vgfDh",
        "outputId": "316d906f-8ad8-4a31-96fa-4c5e873c8554"
      },
      "cell_type": "code",
      "source": [
        "ESR.describe()"
      ],
      "execution_count": null,
      "outputs": [
        {
          "output_type": "execute_result",
          "data": {
            "text/plain": [
              "                 X1            X2            X3            X4            X5  \\\n",
              "count  11500.000000  11500.000000  11500.000000  11500.000000  11500.000000   \n",
              "mean     -11.581391    -10.911565    -10.187130     -9.143043     -8.009739   \n",
              "std      165.626284    166.059609    163.524317    161.269041    160.998007   \n",
              "min    -1839.000000  -1838.000000  -1835.000000  -1845.000000  -1791.000000   \n",
              "25%      -54.000000    -55.000000    -54.000000    -54.000000    -54.000000   \n",
              "50%       -8.000000     -8.000000     -7.000000     -8.000000     -8.000000   \n",
              "75%       34.000000     35.000000     36.000000     36.000000     35.000000   \n",
              "max     1726.000000   1713.000000   1697.000000   1612.000000   1518.000000   \n",
              "\n",
              "                 X6            X7           X8           X9           X10  \\\n",
              "count  11500.000000  11500.000000  11500.00000  11500.00000  11500.000000   \n",
              "mean      -7.003478     -6.502087     -6.68713     -6.55800     -6.168435   \n",
              "std      161.328725    161.467837    162.11912    162.03336    160.436352   \n",
              "min    -1757.000000  -1832.000000  -1778.00000  -1840.00000  -1867.000000   \n",
              "25%      -54.000000    -54.000000    -55.00000    -55.00000    -54.000000   \n",
              "50%       -8.000000     -8.000000     -8.00000     -7.00000     -7.000000   \n",
              "75%       36.000000     35.000000     36.00000     36.00000     35.250000   \n",
              "max     1816.000000   2047.000000   2047.00000   2047.00000   2047.000000   \n",
              "\n",
              "       ...          X170          X171          X172          X173  \\\n",
              "count  ...  11500.000000  11500.000000  11500.000000  11500.000000   \n",
              "mean   ...    -10.145739    -11.630348    -12.943478    -13.668870   \n",
              "std    ...    164.652883    166.149790    168.554058    168.556486   \n",
              "min    ...  -1867.000000  -1865.000000  -1642.000000  -1723.000000   \n",
              "25%    ...    -55.000000    -56.000000    -56.000000    -56.000000   \n",
              "50%    ...     -9.000000    -10.000000    -10.000000    -10.000000   \n",
              "75%    ...     34.000000     34.000000     33.000000     33.000000   \n",
              "max    ...   1777.000000   1472.000000   1319.000000   1436.000000   \n",
              "\n",
              "               X174          X175          X176          X177          X178  \\\n",
              "count  11500.000000  11500.000000  11500.000000  11500.000000  11500.000000   \n",
              "mean     -13.363304    -13.045043    -12.705130    -12.426000    -12.195652   \n",
              "std      167.257290    164.241019    162.895832    162.886311    164.852015   \n",
              "min    -1866.000000  -1863.000000  -1781.000000  -1727.000000  -1829.000000   \n",
              "25%      -55.000000    -56.000000    -55.000000    -55.000000    -55.000000   \n",
              "50%      -10.000000     -9.000000     -9.000000     -9.000000     -9.000000   \n",
              "75%       34.000000     34.000000     34.000000     34.000000     34.000000   \n",
              "max     1733.000000   1958.000000   2047.000000   2047.000000   1915.000000   \n",
              "\n",
              "                  y  \n",
              "count  11500.000000  \n",
              "mean       0.200000  \n",
              "std        0.400017  \n",
              "min        0.000000  \n",
              "25%        0.000000  \n",
              "50%        0.000000  \n",
              "75%        0.000000  \n",
              "max        1.000000  \n",
              "\n",
              "[8 rows x 179 columns]"
            ],
            "text/html": [
              "\n",
              "  <div id=\"df-4e8d3208-fb8b-42a4-964e-a559093cd84a\" class=\"colab-df-container\">\n",
              "    <div>\n",
              "<style scoped>\n",
              "    .dataframe tbody tr th:only-of-type {\n",
              "        vertical-align: middle;\n",
              "    }\n",
              "\n",
              "    .dataframe tbody tr th {\n",
              "        vertical-align: top;\n",
              "    }\n",
              "\n",
              "    .dataframe thead th {\n",
              "        text-align: right;\n",
              "    }\n",
              "</style>\n",
              "<table border=\"1\" class=\"dataframe\">\n",
              "  <thead>\n",
              "    <tr style=\"text-align: right;\">\n",
              "      <th></th>\n",
              "      <th>X1</th>\n",
              "      <th>X2</th>\n",
              "      <th>X3</th>\n",
              "      <th>X4</th>\n",
              "      <th>X5</th>\n",
              "      <th>X6</th>\n",
              "      <th>X7</th>\n",
              "      <th>X8</th>\n",
              "      <th>X9</th>\n",
              "      <th>X10</th>\n",
              "      <th>...</th>\n",
              "      <th>X170</th>\n",
              "      <th>X171</th>\n",
              "      <th>X172</th>\n",
              "      <th>X173</th>\n",
              "      <th>X174</th>\n",
              "      <th>X175</th>\n",
              "      <th>X176</th>\n",
              "      <th>X177</th>\n",
              "      <th>X178</th>\n",
              "      <th>y</th>\n",
              "    </tr>\n",
              "  </thead>\n",
              "  <tbody>\n",
              "    <tr>\n",
              "      <th>count</th>\n",
              "      <td>11500.000000</td>\n",
              "      <td>11500.000000</td>\n",
              "      <td>11500.000000</td>\n",
              "      <td>11500.000000</td>\n",
              "      <td>11500.000000</td>\n",
              "      <td>11500.000000</td>\n",
              "      <td>11500.000000</td>\n",
              "      <td>11500.00000</td>\n",
              "      <td>11500.00000</td>\n",
              "      <td>11500.000000</td>\n",
              "      <td>...</td>\n",
              "      <td>11500.000000</td>\n",
              "      <td>11500.000000</td>\n",
              "      <td>11500.000000</td>\n",
              "      <td>11500.000000</td>\n",
              "      <td>11500.000000</td>\n",
              "      <td>11500.000000</td>\n",
              "      <td>11500.000000</td>\n",
              "      <td>11500.000000</td>\n",
              "      <td>11500.000000</td>\n",
              "      <td>11500.000000</td>\n",
              "    </tr>\n",
              "    <tr>\n",
              "      <th>mean</th>\n",
              "      <td>-11.581391</td>\n",
              "      <td>-10.911565</td>\n",
              "      <td>-10.187130</td>\n",
              "      <td>-9.143043</td>\n",
              "      <td>-8.009739</td>\n",
              "      <td>-7.003478</td>\n",
              "      <td>-6.502087</td>\n",
              "      <td>-6.68713</td>\n",
              "      <td>-6.55800</td>\n",
              "      <td>-6.168435</td>\n",
              "      <td>...</td>\n",
              "      <td>-10.145739</td>\n",
              "      <td>-11.630348</td>\n",
              "      <td>-12.943478</td>\n",
              "      <td>-13.668870</td>\n",
              "      <td>-13.363304</td>\n",
              "      <td>-13.045043</td>\n",
              "      <td>-12.705130</td>\n",
              "      <td>-12.426000</td>\n",
              "      <td>-12.195652</td>\n",
              "      <td>0.200000</td>\n",
              "    </tr>\n",
              "    <tr>\n",
              "      <th>std</th>\n",
              "      <td>165.626284</td>\n",
              "      <td>166.059609</td>\n",
              "      <td>163.524317</td>\n",
              "      <td>161.269041</td>\n",
              "      <td>160.998007</td>\n",
              "      <td>161.328725</td>\n",
              "      <td>161.467837</td>\n",
              "      <td>162.11912</td>\n",
              "      <td>162.03336</td>\n",
              "      <td>160.436352</td>\n",
              "      <td>...</td>\n",
              "      <td>164.652883</td>\n",
              "      <td>166.149790</td>\n",
              "      <td>168.554058</td>\n",
              "      <td>168.556486</td>\n",
              "      <td>167.257290</td>\n",
              "      <td>164.241019</td>\n",
              "      <td>162.895832</td>\n",
              "      <td>162.886311</td>\n",
              "      <td>164.852015</td>\n",
              "      <td>0.400017</td>\n",
              "    </tr>\n",
              "    <tr>\n",
              "      <th>min</th>\n",
              "      <td>-1839.000000</td>\n",
              "      <td>-1838.000000</td>\n",
              "      <td>-1835.000000</td>\n",
              "      <td>-1845.000000</td>\n",
              "      <td>-1791.000000</td>\n",
              "      <td>-1757.000000</td>\n",
              "      <td>-1832.000000</td>\n",
              "      <td>-1778.00000</td>\n",
              "      <td>-1840.00000</td>\n",
              "      <td>-1867.000000</td>\n",
              "      <td>...</td>\n",
              "      <td>-1867.000000</td>\n",
              "      <td>-1865.000000</td>\n",
              "      <td>-1642.000000</td>\n",
              "      <td>-1723.000000</td>\n",
              "      <td>-1866.000000</td>\n",
              "      <td>-1863.000000</td>\n",
              "      <td>-1781.000000</td>\n",
              "      <td>-1727.000000</td>\n",
              "      <td>-1829.000000</td>\n",
              "      <td>0.000000</td>\n",
              "    </tr>\n",
              "    <tr>\n",
              "      <th>25%</th>\n",
              "      <td>-54.000000</td>\n",
              "      <td>-55.000000</td>\n",
              "      <td>-54.000000</td>\n",
              "      <td>-54.000000</td>\n",
              "      <td>-54.000000</td>\n",
              "      <td>-54.000000</td>\n",
              "      <td>-54.000000</td>\n",
              "      <td>-55.00000</td>\n",
              "      <td>-55.00000</td>\n",
              "      <td>-54.000000</td>\n",
              "      <td>...</td>\n",
              "      <td>-55.000000</td>\n",
              "      <td>-56.000000</td>\n",
              "      <td>-56.000000</td>\n",
              "      <td>-56.000000</td>\n",
              "      <td>-55.000000</td>\n",
              "      <td>-56.000000</td>\n",
              "      <td>-55.000000</td>\n",
              "      <td>-55.000000</td>\n",
              "      <td>-55.000000</td>\n",
              "      <td>0.000000</td>\n",
              "    </tr>\n",
              "    <tr>\n",
              "      <th>50%</th>\n",
              "      <td>-8.000000</td>\n",
              "      <td>-8.000000</td>\n",
              "      <td>-7.000000</td>\n",
              "      <td>-8.000000</td>\n",
              "      <td>-8.000000</td>\n",
              "      <td>-8.000000</td>\n",
              "      <td>-8.000000</td>\n",
              "      <td>-8.00000</td>\n",
              "      <td>-7.00000</td>\n",
              "      <td>-7.000000</td>\n",
              "      <td>...</td>\n",
              "      <td>-9.000000</td>\n",
              "      <td>-10.000000</td>\n",
              "      <td>-10.000000</td>\n",
              "      <td>-10.000000</td>\n",
              "      <td>-10.000000</td>\n",
              "      <td>-9.000000</td>\n",
              "      <td>-9.000000</td>\n",
              "      <td>-9.000000</td>\n",
              "      <td>-9.000000</td>\n",
              "      <td>0.000000</td>\n",
              "    </tr>\n",
              "    <tr>\n",
              "      <th>75%</th>\n",
              "      <td>34.000000</td>\n",
              "      <td>35.000000</td>\n",
              "      <td>36.000000</td>\n",
              "      <td>36.000000</td>\n",
              "      <td>35.000000</td>\n",
              "      <td>36.000000</td>\n",
              "      <td>35.000000</td>\n",
              "      <td>36.00000</td>\n",
              "      <td>36.00000</td>\n",
              "      <td>35.250000</td>\n",
              "      <td>...</td>\n",
              "      <td>34.000000</td>\n",
              "      <td>34.000000</td>\n",
              "      <td>33.000000</td>\n",
              "      <td>33.000000</td>\n",
              "      <td>34.000000</td>\n",
              "      <td>34.000000</td>\n",
              "      <td>34.000000</td>\n",
              "      <td>34.000000</td>\n",
              "      <td>34.000000</td>\n",
              "      <td>0.000000</td>\n",
              "    </tr>\n",
              "    <tr>\n",
              "      <th>max</th>\n",
              "      <td>1726.000000</td>\n",
              "      <td>1713.000000</td>\n",
              "      <td>1697.000000</td>\n",
              "      <td>1612.000000</td>\n",
              "      <td>1518.000000</td>\n",
              "      <td>1816.000000</td>\n",
              "      <td>2047.000000</td>\n",
              "      <td>2047.00000</td>\n",
              "      <td>2047.00000</td>\n",
              "      <td>2047.000000</td>\n",
              "      <td>...</td>\n",
              "      <td>1777.000000</td>\n",
              "      <td>1472.000000</td>\n",
              "      <td>1319.000000</td>\n",
              "      <td>1436.000000</td>\n",
              "      <td>1733.000000</td>\n",
              "      <td>1958.000000</td>\n",
              "      <td>2047.000000</td>\n",
              "      <td>2047.000000</td>\n",
              "      <td>1915.000000</td>\n",
              "      <td>1.000000</td>\n",
              "    </tr>\n",
              "  </tbody>\n",
              "</table>\n",
              "<p>8 rows × 179 columns</p>\n",
              "</div>\n",
              "    <div class=\"colab-df-buttons\">\n",
              "\n",
              "  <div class=\"colab-df-container\">\n",
              "    <button class=\"colab-df-convert\" onclick=\"convertToInteractive('df-4e8d3208-fb8b-42a4-964e-a559093cd84a')\"\n",
              "            title=\"Convert this dataframe to an interactive table.\"\n",
              "            style=\"display:none;\">\n",
              "\n",
              "  <svg xmlns=\"http://www.w3.org/2000/svg\" height=\"24px\" viewBox=\"0 -960 960 960\">\n",
              "    <path d=\"M120-120v-720h720v720H120Zm60-500h600v-160H180v160Zm220 220h160v-160H400v160Zm0 220h160v-160H400v160ZM180-400h160v-160H180v160Zm440 0h160v-160H620v160ZM180-180h160v-160H180v160Zm440 0h160v-160H620v160Z\"/>\n",
              "  </svg>\n",
              "    </button>\n",
              "\n",
              "  <style>\n",
              "    .colab-df-container {\n",
              "      display:flex;\n",
              "      gap: 12px;\n",
              "    }\n",
              "\n",
              "    .colab-df-convert {\n",
              "      background-color: #E8F0FE;\n",
              "      border: none;\n",
              "      border-radius: 50%;\n",
              "      cursor: pointer;\n",
              "      display: none;\n",
              "      fill: #1967D2;\n",
              "      height: 32px;\n",
              "      padding: 0 0 0 0;\n",
              "      width: 32px;\n",
              "    }\n",
              "\n",
              "    .colab-df-convert:hover {\n",
              "      background-color: #E2EBFA;\n",
              "      box-shadow: 0px 1px 2px rgba(60, 64, 67, 0.3), 0px 1px 3px 1px rgba(60, 64, 67, 0.15);\n",
              "      fill: #174EA6;\n",
              "    }\n",
              "\n",
              "    .colab-df-buttons div {\n",
              "      margin-bottom: 4px;\n",
              "    }\n",
              "\n",
              "    [theme=dark] .colab-df-convert {\n",
              "      background-color: #3B4455;\n",
              "      fill: #D2E3FC;\n",
              "    }\n",
              "\n",
              "    [theme=dark] .colab-df-convert:hover {\n",
              "      background-color: #434B5C;\n",
              "      box-shadow: 0px 1px 3px 1px rgba(0, 0, 0, 0.15);\n",
              "      filter: drop-shadow(0px 1px 2px rgba(0, 0, 0, 0.3));\n",
              "      fill: #FFFFFF;\n",
              "    }\n",
              "  </style>\n",
              "\n",
              "    <script>\n",
              "      const buttonEl =\n",
              "        document.querySelector('#df-4e8d3208-fb8b-42a4-964e-a559093cd84a button.colab-df-convert');\n",
              "      buttonEl.style.display =\n",
              "        google.colab.kernel.accessAllowed ? 'block' : 'none';\n",
              "\n",
              "      async function convertToInteractive(key) {\n",
              "        const element = document.querySelector('#df-4e8d3208-fb8b-42a4-964e-a559093cd84a');\n",
              "        const dataTable =\n",
              "          await google.colab.kernel.invokeFunction('convertToInteractive',\n",
              "                                                    [key], {});\n",
              "        if (!dataTable) return;\n",
              "\n",
              "        const docLinkHtml = 'Like what you see? Visit the ' +\n",
              "          '<a target=\"_blank\" href=https://colab.research.google.com/notebooks/data_table.ipynb>data table notebook</a>'\n",
              "          + ' to learn more about interactive tables.';\n",
              "        element.innerHTML = '';\n",
              "        dataTable['output_type'] = 'display_data';\n",
              "        await google.colab.output.renderOutput(dataTable, element);\n",
              "        const docLink = document.createElement('div');\n",
              "        docLink.innerHTML = docLinkHtml;\n",
              "        element.appendChild(docLink);\n",
              "      }\n",
              "    </script>\n",
              "  </div>\n",
              "\n",
              "\n",
              "<div id=\"df-2c5e88bb-61ab-49e3-9b78-d0dd6937264b\">\n",
              "  <button class=\"colab-df-quickchart\" onclick=\"quickchart('df-2c5e88bb-61ab-49e3-9b78-d0dd6937264b')\"\n",
              "            title=\"Suggest charts\"\n",
              "            style=\"display:none;\">\n",
              "\n",
              "<svg xmlns=\"http://www.w3.org/2000/svg\" height=\"24px\"viewBox=\"0 0 24 24\"\n",
              "     width=\"24px\">\n",
              "    <g>\n",
              "        <path d=\"M19 3H5c-1.1 0-2 .9-2 2v14c0 1.1.9 2 2 2h14c1.1 0 2-.9 2-2V5c0-1.1-.9-2-2-2zM9 17H7v-7h2v7zm4 0h-2V7h2v10zm4 0h-2v-4h2v4z\"/>\n",
              "    </g>\n",
              "</svg>\n",
              "  </button>\n",
              "\n",
              "<style>\n",
              "  .colab-df-quickchart {\n",
              "      --bg-color: #E8F0FE;\n",
              "      --fill-color: #1967D2;\n",
              "      --hover-bg-color: #E2EBFA;\n",
              "      --hover-fill-color: #174EA6;\n",
              "      --disabled-fill-color: #AAA;\n",
              "      --disabled-bg-color: #DDD;\n",
              "  }\n",
              "\n",
              "  [theme=dark] .colab-df-quickchart {\n",
              "      --bg-color: #3B4455;\n",
              "      --fill-color: #D2E3FC;\n",
              "      --hover-bg-color: #434B5C;\n",
              "      --hover-fill-color: #FFFFFF;\n",
              "      --disabled-bg-color: #3B4455;\n",
              "      --disabled-fill-color: #666;\n",
              "  }\n",
              "\n",
              "  .colab-df-quickchart {\n",
              "    background-color: var(--bg-color);\n",
              "    border: none;\n",
              "    border-radius: 50%;\n",
              "    cursor: pointer;\n",
              "    display: none;\n",
              "    fill: var(--fill-color);\n",
              "    height: 32px;\n",
              "    padding: 0;\n",
              "    width: 32px;\n",
              "  }\n",
              "\n",
              "  .colab-df-quickchart:hover {\n",
              "    background-color: var(--hover-bg-color);\n",
              "    box-shadow: 0 1px 2px rgba(60, 64, 67, 0.3), 0 1px 3px 1px rgba(60, 64, 67, 0.15);\n",
              "    fill: var(--button-hover-fill-color);\n",
              "  }\n",
              "\n",
              "  .colab-df-quickchart-complete:disabled,\n",
              "  .colab-df-quickchart-complete:disabled:hover {\n",
              "    background-color: var(--disabled-bg-color);\n",
              "    fill: var(--disabled-fill-color);\n",
              "    box-shadow: none;\n",
              "  }\n",
              "\n",
              "  .colab-df-spinner {\n",
              "    border: 2px solid var(--fill-color);\n",
              "    border-color: transparent;\n",
              "    border-bottom-color: var(--fill-color);\n",
              "    animation:\n",
              "      spin 1s steps(1) infinite;\n",
              "  }\n",
              "\n",
              "  @keyframes spin {\n",
              "    0% {\n",
              "      border-color: transparent;\n",
              "      border-bottom-color: var(--fill-color);\n",
              "      border-left-color: var(--fill-color);\n",
              "    }\n",
              "    20% {\n",
              "      border-color: transparent;\n",
              "      border-left-color: var(--fill-color);\n",
              "      border-top-color: var(--fill-color);\n",
              "    }\n",
              "    30% {\n",
              "      border-color: transparent;\n",
              "      border-left-color: var(--fill-color);\n",
              "      border-top-color: var(--fill-color);\n",
              "      border-right-color: var(--fill-color);\n",
              "    }\n",
              "    40% {\n",
              "      border-color: transparent;\n",
              "      border-right-color: var(--fill-color);\n",
              "      border-top-color: var(--fill-color);\n",
              "    }\n",
              "    60% {\n",
              "      border-color: transparent;\n",
              "      border-right-color: var(--fill-color);\n",
              "    }\n",
              "    80% {\n",
              "      border-color: transparent;\n",
              "      border-right-color: var(--fill-color);\n",
              "      border-bottom-color: var(--fill-color);\n",
              "    }\n",
              "    90% {\n",
              "      border-color: transparent;\n",
              "      border-bottom-color: var(--fill-color);\n",
              "    }\n",
              "  }\n",
              "</style>\n",
              "\n",
              "  <script>\n",
              "    async function quickchart(key) {\n",
              "      const quickchartButtonEl =\n",
              "        document.querySelector('#' + key + ' button');\n",
              "      quickchartButtonEl.disabled = true;  // To prevent multiple clicks.\n",
              "      quickchartButtonEl.classList.add('colab-df-spinner');\n",
              "      try {\n",
              "        const charts = await google.colab.kernel.invokeFunction(\n",
              "            'suggestCharts', [key], {});\n",
              "      } catch (error) {\n",
              "        console.error('Error during call to suggestCharts:', error);\n",
              "      }\n",
              "      quickchartButtonEl.classList.remove('colab-df-spinner');\n",
              "      quickchartButtonEl.classList.add('colab-df-quickchart-complete');\n",
              "    }\n",
              "    (() => {\n",
              "      let quickchartButtonEl =\n",
              "        document.querySelector('#df-2c5e88bb-61ab-49e3-9b78-d0dd6937264b button');\n",
              "      quickchartButtonEl.style.display =\n",
              "        google.colab.kernel.accessAllowed ? 'block' : 'none';\n",
              "    })();\n",
              "  </script>\n",
              "</div>\n",
              "    </div>\n",
              "  </div>\n"
            ],
            "application/vnd.google.colaboratory.intrinsic+json": {
              "type": "dataframe"
            }
          },
          "metadata": {},
          "execution_count": 8
        }
      ]
    },
    {
      "metadata": {
        "_kg_hide-input": true,
        "trusted": true,
        "_uuid": "38ab208871375f43e6afced6a807f23a85468a68",
        "colab": {
          "base_uri": "https://localhost:8080/"
        },
        "id": "nRQBDENfgfDh",
        "outputId": "178d77e1-a736-4275-a03e-184fb5b6556c"
      },
      "cell_type": "code",
      "source": [
        "X = ESR.iloc[:,1:179].values\n",
        "X.shape"
      ],
      "execution_count": null,
      "outputs": [
        {
          "output_type": "execute_result",
          "data": {
            "text/plain": [
              "(11500, 178)"
            ]
          },
          "metadata": {},
          "execution_count": 9
        }
      ]
    },
    {
      "metadata": {
        "_kg_hide-input": true,
        "trusted": true,
        "_uuid": "1c4c72aceecdc35866aee2ec777a435abaf46fc3",
        "colab": {
          "base_uri": "https://localhost:8080/",
          "height": 489
        },
        "id": "UTyH1xBBgfDh",
        "outputId": "bb4c8688-f8e8-4399-d035-4f978be24419"
      },
      "cell_type": "code",
      "source": [
        "plt.subplot(511)\n",
        "plt.plot(X[1,:])\n",
        "plt.title('Classes')\n",
        "plt.ylabel('uV')\n",
        "plt.subplot(512)\n",
        "plt.plot(X[7,:])\n",
        "plt.subplot(513)\n",
        "plt.plot(X[12,:])\n",
        "plt.subplot(514)\n",
        "plt.plot(X[0,:])\n",
        "plt.subplot(515)\n",
        "plt.plot(X[2,:])\n",
        "plt.xlabel('Samples')"
      ],
      "execution_count": null,
      "outputs": [
        {
          "output_type": "execute_result",
          "data": {
            "text/plain": [
              "Text(0.5, 0, 'Samples')"
            ]
          },
          "metadata": {},
          "execution_count": 10
        },
        {
          "output_type": "display_data",
          "data": {
            "text/plain": [
              "<Figure size 640x480 with 5 Axes>"
            ],
            "image/png": "[encoded data removed]"
          },
          "metadata": {}
        }
      ]
    },
    {
      "metadata": {
        "_kg_hide-input": true,
        "trusted": true,
        "_uuid": "32875b29c90672f90bdba34fcb94656dfce9fb70",
        "colab": {
          "base_uri": "https://localhost:8080/"
        },
        "id": "qZfVQ99NgfDi",
        "outputId": "f98d8922-0385-4a80-94df-83a189ab2f4d"
      },
      "cell_type": "code",
      "source": [
        "y = ESR.iloc[:,179].values\n",
        "y"
      ],
      "execution_count": null,
      "outputs": [
        {
          "output_type": "execute_result",
          "data": {
            "text/plain": [
              "array([0, 1, 0, ..., 0, 0, 0])"
            ]
          },
          "metadata": {},
          "execution_count": 11
        }
      ]
    },
    {
      "metadata": {
        "_kg_hide-input": true,
        "trusted": true,
        "_uuid": "67cdd58fc5bdc0fea9fff3a6c3eb030d17bb5fef",
        "colab": {
          "base_uri": "https://localhost:8080/"
        },
        "id": "puVhkn6DgfDi",
        "outputId": "5e974400-471d-4e05-cea8-0557dedcb4f4"
      },
      "cell_type": "code",
      "source": [
        "y[y>1]=0\n",
        "y"
      ],
      "execution_count": null,
      "outputs": [
        {
          "output_type": "execute_result",
          "data": {
            "text/plain": [
              "array([0, 1, 0, ..., 0, 0, 0])"
            ]
          },
          "metadata": {},
          "execution_count": 12
        }
      ]
    },
    {
      "metadata": {
        "_kg_hide-input": true,
        "trusted": true,
        "_uuid": "98ca8b335764e01df2b8aaa10183a4e577854d30",
        "id": "Y_qhk66GgfDj"
      },
      "cell_type": "code",
      "source": [
        "from sklearn.model_selection import train_test_split, cross_val_score\n",
        "X_train, X_test, y_train, y_test = train_test_split(X, y, test_size = 0.2)"
      ],
      "execution_count": null,
      "outputs": []
    },
    {
      "metadata": {
        "_kg_hide-input": true,
        "trusted": true,
        "_uuid": "7b5ac7857321848b984fbe95957e7078066daf75",
        "id": "v9WdP7s7gfDj"
      },
      "cell_type": "code",
      "source": [
        "from sklearn.preprocessing import StandardScaler\n",
        "sc = StandardScaler()\n",
        "X_train = sc.fit_transform(X_train)\n",
        "X_test = sc.transform(X_test)"
      ],
      "execution_count": null,
      "outputs": []
    },
    {
      "metadata": {
        "_kg_hide-input": true,
        "trusted": true,
        "_uuid": "bb41b354adaf04dc6ce4a4a3204fe5bd8df629bc",
        "colab": {
          "base_uri": "https://localhost:8080/"
        },
        "id": "Be5IE4_XgfDj",
        "outputId": "c81f7a19-ebb6-4f45-e3e1-40b06c7b0426"
      },
      "cell_type": "code",
      "source": [
        "from sklearn.linear_model import LogisticRegression\n",
        "clf = LogisticRegression()\n",
        "clf.fit(X_train, y_train)\n",
        "y_pred_log_reg = clf.predict(X_test)\n",
        "acc_log_reg = round(clf.score(X_train, y_train) * 100, 2)\n",
        "print (str(acc_log_reg) + ' %')"
      ],
      "execution_count": null,
      "outputs": [
        {
          "output_type": "stream",
          "name": "stdout",
          "text": [
            "82.48 %\n"
          ]
        },
        {
          "output_type": "stream",
          "name": "stderr",
          "text": [
            "/usr/local/lib/python3.10/dist-packages/sklearn/linear_model/_logistic.py:458: ConvergenceWarning: lbfgs failed to converge (status=1):\n",
            "STOP: TOTAL NO. of ITERATIONS REACHED LIMIT.\n",
            "\n",
            "Increase the number of iterations (max_iter) or scale the data as shown in:\n",
            "    https://scikit-learn.org/stable/modules/preprocessing.html\n",
            "Please also refer to the documentation for alternative solver options:\n",
            "    https://scikit-learn.org/stable/modules/linear_model.html#logistic-regression\n",
            "  n_iter_i = _check_optimize_result(\n"
          ]
        }
      ]
    },
    {
      "metadata": {
        "_kg_hide-input": true,
        "trusted": true,
        "_uuid": "099f1945de2146e22b4cb0abbc5e128bdab827d3",
        "colab": {
          "base_uri": "https://localhost:8080/"
        },
        "id": "wSZrt3iLgfDk",
        "outputId": "4963f72a-10be-44df-bd16-465d1696e0f3"
      },
      "cell_type": "code",
      "source": [
        "from sklearn.svm import SVC\n",
        "clf = SVC()\n",
        "clf.fit(X_train, y_train)\n",
        "y_pred_svc = clf.predict(X_test)\n",
        "acc_svc = round(clf.score(X_train, y_train) * 100, 2)\n",
        "print (str(acc_svc) + '%')"
      ],
      "execution_count": null,
      "outputs": [
        {
          "output_type": "stream",
          "name": "stdout",
          "text": [
            "98.33%\n"
          ]
        }
      ]
    },
    {
      "metadata": {
        "trusted": true,
        "_uuid": "171a3d7c5beba58348c4a2c878ebf7dfe4f703c8",
        "colab": {
          "base_uri": "https://localhost:8080/"
        },
        "id": "qCO4n8sagfDk",
        "outputId": "a5832f92-b3fe-4ed6-d997-8f25deb82523"
      },
      "cell_type": "code",
      "source": [
        "from sklearn.svm import SVC, LinearSVC\n",
        "clf = LinearSVC()\n",
        "clf.fit(X_train, y_train)\n",
        "y_pred_linear_svc = clf.predict(X_test)\n",
        "acc_linear_svc = round(clf.score(X_train, y_train) * 100, 2)\n",
        "print (str(acc_linear_svc) + '%')"
      ],
      "execution_count": null,
      "outputs": [
        {
          "output_type": "stream",
          "name": "stdout",
          "text": [
            "82.8%\n"
          ]
        },
        {
          "output_type": "stream",
          "name": "stderr",
          "text": [
            "/usr/local/lib/python3.10/dist-packages/sklearn/svm/_base.py:1244: ConvergenceWarning: Liblinear failed to converge, increase the number of iterations.\n",
            "  warnings.warn(\n"
          ]
        }
      ]
    },
    {
      "metadata": {
        "_kg_hide-input": true,
        "trusted": true,
        "_uuid": "93e7e59da21b3d12737061c6687cb628d0960dfb",
        "colab": {
          "base_uri": "https://localhost:8080/"
        },
        "id": "X_aPKHxjgfDt",
        "outputId": "dd178cfd-d330-451e-88d2-6d8b87c5a737"
      },
      "cell_type": "code",
      "source": [
        "from sklearn.neighbors import KNeighborsClassifier\n",
        "clf = KNeighborsClassifier()\n",
        "clf.fit(X_train, y_train)\n",
        "y_pred_knn = clf.predict(X_test)\n",
        "acc_knn = round(clf.score(X_train, y_train) * 100, 2)\n",
        "print (str(acc_knn)+'%')"
      ],
      "execution_count": null,
      "outputs": [
        {
          "output_type": "stream",
          "name": "stdout",
          "text": [
            "93.85%\n"
          ]
        }
      ]
    },
    {
      "metadata": {
        "_kg_hide-input": true,
        "trusted": true,
        "_uuid": "6090e8aa7daae6d6aef32152a077d867beef9d1b",
        "colab": {
          "base_uri": "https://localhost:8080/"
        },
        "id": "1XMoAGCVgfDu",
        "outputId": "a0cc314f-ffbb-4949-d874-ff5f3a3d4152"
      },
      "cell_type": "code",
      "source": [
        "from sklearn.naive_bayes import GaussianNB\n",
        "clf = GaussianNB()\n",
        "clf.fit(X_train, y_train)\n",
        "y_pred_gnb = clf.predict(X_test)\n",
        "acc_gnb = round(clf.score(X_train, y_train) * 100, 2)\n",
        "print (str(acc_gnb) + '%')"
      ],
      "execution_count": null,
      "outputs": [
        {
          "output_type": "stream",
          "name": "stdout",
          "text": [
            "95.6%\n"
          ]
        }
      ]
    },
    {
      "metadata": {
        "_kg_hide-input": true,
        "trusted": true,
        "_uuid": "ef70904940d3a29a09db064e4264729878a88798",
        "id": "op7b9oqVgfDu"
      },
      "cell_type": "code",
      "source": [
        "import keras\n",
        "from keras.models import Sequential\n",
        "from keras.layers import Dense"
      ],
      "execution_count": null,
      "outputs": []
    },
    {
      "metadata": {
        "_kg_hide-input": true,
        "trusted": true,
        "_uuid": "d5227ec581d362265d05d1ed25c12ac8f443464d",
        "id": "mWnClRcogfDu"
      },
      "cell_type": "code",
      "source": [
        "classifier = Sequential()"
      ],
      "execution_count": null,
      "outputs": []
    },
    {
      "metadata": {
        "_kg_hide-input": true,
        "trusted": true,
        "_uuid": "5cc825b56c5217cb6a39b696bc5f6e2552814d69",
        "id": "ypZNire1gfDv"
      },
      "cell_type": "code",
      "source": [
        "classifier.add(Dense(units=80, kernel_initializer='uniform', activation='relu', input_dim=178))\n"
      ],
      "execution_count": null,
      "outputs": []
    },
    {
      "metadata": {
        "_kg_hide-input": true,
        "trusted": true,
        "_uuid": "4d28df06df33846c0004b4461e7f67ef1bf78c5c",
        "id": "c3S3P5D8gfDv"
      },
      "cell_type": "code",
      "source": [
        "classifier.add(Dense(units=80, kernel_initializer='uniform', activation='relu', input_dim=178))\n"
      ],
      "execution_count": null,
      "outputs": []
    },
    {
      "metadata": {
        "_kg_hide-input": true,
        "trusted": true,
        "_uuid": "b783f126f5845942a7fc9c46717cba4202527647",
        "id": "U2TpPrp9gfDv"
      },
      "cell_type": "code",
      "source": [
        "classifier.add(Dense(units=1, kernel_initializer='uniform', activation='sigmoid'))"
      ],
      "execution_count": null,
      "outputs": []
    },
    {
      "metadata": {
        "_kg_hide-input": true,
        "trusted": true,
        "_uuid": "0b1f53b91b238b641147d384922834e0b562d6df",
        "colab": {
          "base_uri": "https://localhost:8080/"
        },
        "id": "J_QZ4AGHgfDw",
        "outputId": "fb397da1-8ae3-4094-c75d-8230e29bac81"
      },
      "cell_type": "code",
      "source": [
        "classifier.compile(optimizer='adam', loss='binary_crossentropy', metrics=['accuracy'])\n",
        "classifier.fit(X_train, y_train, batch_size=10, epochs=100)\n"
      ],
      "execution_count": null,
      "outputs": [
        {
          "output_type": "stream",
          "name": "stdout",
          "text": [
            "Epoch 1/100\n",
            "920/920 [==============================] - 3s 2ms/step - loss: 0.2019 - accuracy: 0.9480\n",
            "Epoch 2/100\n",
            "920/920 [==============================] - 2s 3ms/step - loss: 0.1001 - accuracy: 0.9702\n",
            "Epoch 3/100\n",
            "920/920 [==============================] - 2s 2ms/step - loss: 0.0836 - accuracy: 0.9740\n",
            "Epoch 4/100\n",
            "920/920 [==============================] - 2s 2ms/step - loss: 0.0710 - accuracy: 0.9771\n",
            "Epoch 5/100\n",
            "920/920 [==============================] - 2s 2ms/step - loss: 0.0663 - accuracy: 0.9779\n",
            "Epoch 6/100\n",
            "920/920 [==============================] - 2s 2ms/step - loss: 0.0593 - accuracy: 0.9802\n",
            "Epoch 7/100\n",
            "920/920 [==============================] - 2s 2ms/step - loss: 0.0545 - accuracy: 0.9816\n",
            "Epoch 8/100\n",
            "920/920 [==============================] - 2s 2ms/step - loss: 0.0500 - accuracy: 0.9840\n",
            "Epoch 9/100\n",
            "920/920 [==============================] - 2s 2ms/step - loss: 0.0454 - accuracy: 0.9849\n",
            "Epoch 10/100\n",
            "920/920 [==============================] - 2s 2ms/step - loss: 0.0412 - accuracy: 0.9861\n",
            "Epoch 11/100\n",
            "920/920 [==============================] - 2s 2ms/step - loss: 0.0365 - accuracy: 0.9882\n",
            "Epoch 12/100\n",
            "920/920 [==============================] - 2s 2ms/step - loss: 0.0364 - accuracy: 0.9873\n",
            "Epoch 13/100\n",
            "920/920 [==============================] - 2s 2ms/step - loss: 0.0328 - accuracy: 0.9891\n",
            "Epoch 14/100\n",
            "920/920 [==============================] - 2s 2ms/step - loss: 0.0294 - accuracy: 0.9913\n",
            "Epoch 15/100\n",
            "920/920 [==============================] - 2s 2ms/step - loss: 0.0230 - accuracy: 0.9912\n",
            "Epoch 16/100\n",
            "920/920 [==============================] - 2s 2ms/step - loss: 0.0298 - accuracy: 0.9901\n",
            "Epoch 17/100\n",
            "920/920 [==============================] - 2s 2ms/step - loss: 0.0227 - accuracy: 0.9918\n",
            "Epoch 18/100\n",
            "920/920 [==============================] - 2s 2ms/step - loss: 0.0232 - accuracy: 0.9908\n",
            "Epoch 19/100\n",
            "920/920 [==============================] - 2s 2ms/step - loss: 0.0246 - accuracy: 0.9918\n",
            "Epoch 20/100\n",
            "920/920 [==============================] - 2s 2ms/step - loss: 0.0182 - accuracy: 0.9937\n",
            "Epoch 21/100\n",
            "920/920 [==============================] - 2s 2ms/step - loss: 0.0152 - accuracy: 0.9942\n",
            "Epoch 22/100\n",
            "920/920 [==============================] - 2s 2ms/step - loss: 0.0201 - accuracy: 0.9927\n",
            "Epoch 23/100\n",
            "920/920 [==============================] - 2s 2ms/step - loss: 0.0145 - accuracy: 0.9948\n",
            "Epoch 24/100\n",
            "920/920 [==============================] - 2s 2ms/step - loss: 0.0095 - accuracy: 0.9970\n",
            "Epoch 25/100\n",
            "920/920 [==============================] - 2s 2ms/step - loss: 0.0239 - accuracy: 0.9932\n",
            "Epoch 26/100\n",
            "920/920 [==============================] - 2s 2ms/step - loss: 0.0120 - accuracy: 0.9960\n",
            "Epoch 27/100\n",
            "920/920 [==============================] - 2s 2ms/step - loss: 0.0055 - accuracy: 0.9987\n",
            "Epoch 28/100\n",
            "920/920 [==============================] - 2s 2ms/step - loss: 0.0208 - accuracy: 0.9936\n",
            "Epoch 29/100\n",
            "920/920 [==============================] - 2s 2ms/step - loss: 0.0142 - accuracy: 0.9958\n",
            "Epoch 30/100\n",
            "920/920 [==============================] - 2s 2ms/step - loss: 0.0082 - accuracy: 0.9972\n",
            "Epoch 31/100\n",
            "920/920 [==============================] - 2s 3ms/step - loss: 0.0083 - accuracy: 0.9975\n",
            "Epoch 32/100\n",
            "920/920 [==============================] - 2s 2ms/step - loss: 0.0145 - accuracy: 0.9950\n",
            "Epoch 33/100\n",
            "920/920 [==============================] - 2s 2ms/step - loss: 0.0171 - accuracy: 0.9961\n",
            "Epoch 34/100\n",
            "920/920 [==============================] - 2s 2ms/step - loss: 0.0167 - accuracy: 0.9948\n",
            "Epoch 35/100\n",
            "920/920 [==============================] - 2s 2ms/step - loss: 0.0046 - accuracy: 0.9985\n",
            "Epoch 36/100\n",
            "920/920 [==============================] - 2s 2ms/step - loss: 0.0118 - accuracy: 0.9968\n",
            "Epoch 37/100\n",
            "920/920 [==============================] - 2s 2ms/step - loss: 0.0051 - accuracy: 0.9980\n",
            "Epoch 38/100\n",
            "920/920 [==============================] - 2s 3ms/step - loss: 0.0142 - accuracy: 0.9964\n",
            "Epoch 39/100\n",
            "920/920 [==============================] - 2s 2ms/step - loss: 0.0049 - accuracy: 0.9984\n",
            "Epoch 40/100\n",
            "920/920 [==============================] - 2s 2ms/step - loss: 0.0106 - accuracy: 0.9967\n",
            "Epoch 41/100\n",
            "920/920 [==============================] - 2s 2ms/step - loss: 0.0039 - accuracy: 0.9986\n",
            "Epoch 42/100\n",
            "920/920 [==============================] - 2s 2ms/step - loss: 0.0029 - accuracy: 0.9988\n",
            "Epoch 43/100\n",
            "920/920 [==============================] - 2s 2ms/step - loss: 0.0157 - accuracy: 0.9955\n",
            "Epoch 44/100\n",
            "920/920 [==============================] - 2s 2ms/step - loss: 0.0119 - accuracy: 0.9964\n",
            "Epoch 45/100\n",
            "920/920 [==============================] - 2s 2ms/step - loss: 0.0086 - accuracy: 0.9967\n",
            "Epoch 46/100\n",
            "920/920 [==============================] - 2s 2ms/step - loss: 0.0073 - accuracy: 0.9983\n",
            "Epoch 47/100\n",
            "920/920 [==============================] - 2s 2ms/step - loss: 0.0019 - accuracy: 0.9992\n",
            "Epoch 48/100\n",
            "920/920 [==============================] - 2s 2ms/step - loss: 9.9285e-04 - accuracy: 0.9997\n",
            "Epoch 49/100\n",
            "920/920 [==============================] - 2s 2ms/step - loss: 4.6336e-04 - accuracy: 0.9998\n",
            "Epoch 50/100\n",
            "920/920 [==============================] - 2s 2ms/step - loss: 0.0019 - accuracy: 0.9993\n",
            "Epoch 51/100\n",
            "920/920 [==============================] - 2s 2ms/step - loss: 0.0305 - accuracy: 0.9913\n",
            "Epoch 52/100\n",
            "920/920 [==============================] - 2s 2ms/step - loss: 0.0023 - accuracy: 0.9991\n",
            "Epoch 53/100\n",
            "920/920 [==============================] - 2s 2ms/step - loss: 0.0049 - accuracy: 0.9983\n",
            "Epoch 54/100\n",
            "920/920 [==============================] - 2s 2ms/step - loss: 0.0065 - accuracy: 0.9979\n",
            "Epoch 55/100\n",
            "920/920 [==============================] - 2s 2ms/step - loss: 0.0055 - accuracy: 0.9985\n",
            "Epoch 56/100\n",
            "920/920 [==============================] - 2s 2ms/step - loss: 0.0129 - accuracy: 0.9961\n",
            "Epoch 57/100\n",
            "920/920 [==============================] - 2s 2ms/step - loss: 0.0053 - accuracy: 0.9986\n",
            "Epoch 58/100\n",
            "920/920 [==============================] - 2s 2ms/step - loss: 0.0020 - accuracy: 0.9995\n",
            "Epoch 59/100\n",
            "920/920 [==============================] - 2s 3ms/step - loss: 0.0029 - accuracy: 0.9991\n",
            "Epoch 60/100\n",
            "920/920 [==============================] - 2s 2ms/step - loss: 0.0011 - accuracy: 0.9997\n",
            "Epoch 61/100\n",
            "920/920 [==============================] - 2s 2ms/step - loss: 0.0156 - accuracy: 0.9973\n",
            "Epoch 62/100\n",
            "920/920 [==============================] - 2s 2ms/step - loss: 0.0074 - accuracy: 0.9980\n",
            "Epoch 63/100\n",
            "920/920 [==============================] - 2s 2ms/step - loss: 0.0054 - accuracy: 0.9991\n",
            "Epoch 64/100\n",
            "920/920 [==============================] - 2s 2ms/step - loss: 0.0035 - accuracy: 0.9988\n",
            "Epoch 65/100\n",
            "920/920 [==============================] - 2s 2ms/step - loss: 0.0063 - accuracy: 0.9980\n",
            "Epoch 66/100\n",
            "920/920 [==============================] - 3s 3ms/step - loss: 0.0125 - accuracy: 0.9972\n",
            "Epoch 67/100\n",
            "920/920 [==============================] - 2s 2ms/step - loss: 0.0069 - accuracy: 0.9979\n",
            "Epoch 68/100\n",
            "920/920 [==============================] - 2s 2ms/step - loss: 7.2612e-04 - accuracy: 0.9999\n",
            "Epoch 69/100\n",
            "920/920 [==============================] - 2s 2ms/step - loss: 1.5780e-04 - accuracy: 1.0000\n",
            "Epoch 70/100\n",
            "920/920 [==============================] - 2s 2ms/step - loss: 1.1302e-04 - accuracy: 1.0000\n",
            "Epoch 71/100\n",
            "920/920 [==============================] - 2s 2ms/step - loss: 7.3848e-05 - accuracy: 1.0000\n",
            "Epoch 72/100\n",
            "920/920 [==============================] - 2s 2ms/step - loss: 5.4405e-05 - accuracy: 1.0000\n",
            "Epoch 73/100\n",
            "920/920 [==============================] - 2s 3ms/step - loss: 3.7515e-05 - accuracy: 1.0000\n",
            "Epoch 74/100\n",
            "920/920 [==============================] - 2s 2ms/step - loss: 2.8257e-05 - accuracy: 1.0000\n",
            "Epoch 75/100\n",
            "920/920 [==============================] - 2s 2ms/step - loss: 0.0373 - accuracy: 0.9940\n",
            "Epoch 76/100\n",
            "920/920 [==============================] - 2s 2ms/step - loss: 0.0135 - accuracy: 0.9959\n",
            "Epoch 77/100\n",
            "920/920 [==============================] - 2s 2ms/step - loss: 0.0035 - accuracy: 0.9991\n",
            "Epoch 78/100\n",
            "920/920 [==============================] - 2s 2ms/step - loss: 0.0013 - accuracy: 0.9998\n",
            "Epoch 79/100\n",
            "920/920 [==============================] - 2s 2ms/step - loss: 1.4740e-04 - accuracy: 1.0000\n",
            "Epoch 80/100\n",
            "920/920 [==============================] - 2s 3ms/step - loss: 8.7897e-05 - accuracy: 1.0000\n",
            "Epoch 81/100\n",
            "920/920 [==============================] - 2s 2ms/step - loss: 6.1109e-05 - accuracy: 1.0000\n",
            "Epoch 82/100\n",
            "920/920 [==============================] - 2s 2ms/step - loss: 4.7724e-05 - accuracy: 1.0000\n",
            "Epoch 83/100\n",
            "920/920 [==============================] - 2s 2ms/step - loss: 2.9009e-05 - accuracy: 1.0000\n",
            "Epoch 84/100\n",
            "920/920 [==============================] - 2s 2ms/step - loss: 2.5873e-05 - accuracy: 1.0000\n",
            "Epoch 85/100\n",
            "920/920 [==============================] - 2s 2ms/step - loss: 0.0357 - accuracy: 0.9932\n",
            "Epoch 86/100\n",
            "920/920 [==============================] - 2s 2ms/step - loss: 0.0109 - accuracy: 0.9968\n",
            "Epoch 87/100\n",
            "920/920 [==============================] - 2s 2ms/step - loss: 6.7740e-04 - accuracy: 0.9999\n",
            "Epoch 88/100\n",
            "920/920 [==============================] - 2s 2ms/step - loss: 2.5008e-04 - accuracy: 1.0000\n",
            "Epoch 89/100\n",
            "920/920 [==============================] - 2s 2ms/step - loss: 8.4926e-05 - accuracy: 1.0000\n",
            "Epoch 90/100\n",
            "920/920 [==============================] - 2s 2ms/step - loss: 5.7947e-05 - accuracy: 1.0000\n",
            "Epoch 91/100\n",
            "920/920 [==============================] - 2s 2ms/step - loss: 3.8399e-05 - accuracy: 1.0000\n",
            "Epoch 92/100\n",
            "920/920 [==============================] - 2s 2ms/step - loss: 2.7527e-05 - accuracy: 1.0000\n",
            "Epoch 93/100\n",
            "920/920 [==============================] - 2s 2ms/step - loss: 1.8852e-05 - accuracy: 1.0000\n",
            "Epoch 94/100\n",
            "920/920 [==============================] - 2s 2ms/step - loss: 1.2404e-05 - accuracy: 1.0000\n",
            "Epoch 95/100\n",
            "920/920 [==============================] - 2s 3ms/step - loss: 7.9351e-06 - accuracy: 1.0000\n",
            "Epoch 96/100\n",
            "920/920 [==============================] - 2s 2ms/step - loss: 6.1952e-06 - accuracy: 1.0000\n",
            "Epoch 97/100\n",
            "920/920 [==============================] - 2s 2ms/step - loss: 0.0052 - accuracy: 0.9995\n",
            "Epoch 98/100\n",
            "920/920 [==============================] - 2s 2ms/step - loss: 0.0421 - accuracy: 0.9942\n",
            "Epoch 99/100\n",
            "920/920 [==============================] - 2s 2ms/step - loss: 0.0075 - accuracy: 0.9978\n",
            "Epoch 100/100\n",
            "920/920 [==============================] - 2s 2ms/step - loss: 5.8444e-04 - accuracy: 1.0000\n"
          ]
        },
        {
          "output_type": "execute_result",
          "data": {
            "text/plain": [
              "<keras.src.callbacks.History at 0x7c8895618c70>"
            ]
          },
          "metadata": {},
          "execution_count": 30
        }
      ]
    },
    {
      "metadata": {
        "_kg_hide-input": true,
        "trusted": true,
        "_uuid": "d6d20a37e919957eca21406a579f230c69dddf4d",
        "colab": {
          "base_uri": "https://localhost:8080/"
        },
        "id": "KQQgvfQvgfDw",
        "outputId": "f0e10f0a-cb72-400b-890f-2a4aa0664123"
      },
      "cell_type": "code",
      "source": [
        "y_pred = classifier.predict(X_test)\n",
        "y_pred = (y_pred > 0.5)\n",
        "acc_ANN = round(clf.score(X_train, y_train) * 100, 2)\n",
        "print (str(acc_ANN) + '%')"
      ],
      "execution_count": null,
      "outputs": [
        {
          "output_type": "stream",
          "name": "stdout",
          "text": [
            "72/72 [==============================] - 0s 1ms/step\n",
            "95.6%\n"
          ]
        }
      ]
    },
    {
      "metadata": {
        "_kg_hide-input": true,
        "trusted": true,
        "_uuid": "61a34e727af945a625193d25df16c3941e451cf7",
        "colab": {
          "base_uri": "https://localhost:8080/"
        },
        "id": "Qj6ffNkigfDw",
        "outputId": "8b163ed0-4250-46ef-d9a5-5caa357843f3"
      },
      "cell_type": "code",
      "source": [
        "from sklearn.decomposition import PCA\n",
        "pca = PCA()\n",
        "X_train_pca = pca.fit_transform(X_train)\n",
        "X_test_pca = pca.transform(X_test)\n",
        "acc_PCA = round(pca.score(X_train, y_train) )\n",
        "print (str(acc_PCA) + '%')"
      ],
      "execution_count": null,
      "outputs": [
        {
          "output_type": "stream",
          "name": "stdout",
          "text": [
            "90%\n"
          ]
        }
      ]
    },
    {
      "metadata": {
        "trusted": true,
        "_uuid": "646bccff6126c0b579594a3217c0fa045473abfd",
        "colab": {
          "base_uri": "https://localhost:8080/",
          "height": 237
        },
        "id": "TvqszmsZgfDx",
        "outputId": "3d43b589-1a09-4b74-b6dc-dd91fbe7c134"
      },
      "cell_type": "code",
      "source": [
        "models = pd.DataFrame({\n",
        "    'Model': ['Logistic Regression', 'Support Vector Machines','ANN',\n",
        "              'KNN', 'Naive Bayes', 'Principal Component Analysis'],\n",
        "\n",
        "    'Score': [acc_log_reg, acc_svc,acc_ANN ,\n",
        "              acc_knn, acc_gnb,acc_PCA ]\n",
        "    })\n",
        "\n",
        "models.sort_values(by='Score', ascending=False)"
      ],
      "execution_count": null,
      "outputs": [
        {
          "output_type": "execute_result",
          "data": {
            "text/plain": [
              "                          Model  Score\n",
              "1       Support Vector Machines  98.24\n",
              "2                           ANN  95.60\n",
              "4                   Naive Bayes  95.60\n",
              "3                           KNN  93.85\n",
              "5  Principal Component Analysis  90.00\n",
              "0           Logistic Regression  82.32"
            ],
            "text/html": [
              "\n",
              "  <div id=\"df-5b747a98-1471-4f36-b59b-52b5a57c1e7e\" class=\"colab-df-container\">\n",
              "    <div>\n",
              "<style scoped>\n",
              "    .dataframe tbody tr th:only-of-type {\n",
              "        vertical-align: middle;\n",
              "    }\n",
              "\n",
              "    .dataframe tbody tr th {\n",
              "        vertical-align: top;\n",
              "    }\n",
              "\n",
              "    .dataframe thead th {\n",
              "        text-align: right;\n",
              "    }\n",
              "</style>\n",
              "<table border=\"1\" class=\"dataframe\">\n",
              "  <thead>\n",
              "    <tr style=\"text-align: right;\">\n",
              "      <th></th>\n",
              "      <th>Model</th>\n",
              "      <th>Score</th>\n",
              "    </tr>\n",
              "  </thead>\n",
              "  <tbody>\n",
              "    <tr>\n",
              "      <th>1</th>\n",
              "      <td>Support Vector Machines</td>\n",
              "      <td>98.24</td>\n",
              "    </tr>\n",
              "    <tr>\n",
              "      <th>2</th>\n",
              "      <td>ANN</td>\n",
              "      <td>95.60</td>\n",
              "    </tr>\n",
              "    <tr>\n",
              "      <th>4</th>\n",
              "      <td>Naive Bayes</td>\n",
              "      <td>95.60</td>\n",
              "    </tr>\n",
              "    <tr>\n",
              "      <th>3</th>\n",
              "      <td>KNN</td>\n",
              "      <td>93.85</td>\n",
              "    </tr>\n",
              "    <tr>\n",
              "      <th>5</th>\n",
              "      <td>Principal Component Analysis</td>\n",
              "      <td>90.00</td>\n",
              "    </tr>\n",
              "    <tr>\n",
              "      <th>0</th>\n",
              "      <td>Logistic Regression</td>\n",
              "      <td>82.32</td>\n",
              "    </tr>\n",
              "  </tbody>\n",
              "</table>\n",
              "</div>\n",
              "    <div class=\"colab-df-buttons\">\n",
              "\n",
              "  <div class=\"colab-df-container\">\n",
              "    <button class=\"colab-df-convert\" onclick=\"convertToInteractive('df-5b747a98-1471-4f36-b59b-52b5a57c1e7e')\"\n",
              "            title=\"Convert this dataframe to an interactive table.\"\n",
              "            style=\"display:none;\">\n",
              "\n",
              "  <svg xmlns=\"http://www.w3.org/2000/svg\" height=\"24px\" viewBox=\"0 -960 960 960\">\n",
              "    <path d=\"M120-120v-720h720v720H120Zm60-500h600v-160H180v160Zm220 220h160v-160H400v160Zm0 220h160v-160H400v160ZM180-400h160v-160H180v160Zm440 0h160v-160H620v160ZM180-180h160v-160H180v160Zm440 0h160v-160H620v160Z\"/>\n",
              "  </svg>\n",
              "    </button>\n",
              "\n",
              "  <style>\n",
              "    .colab-df-container {\n",
              "      display:flex;\n",
              "      gap: 12px;\n",
              "    }\n",
              "\n",
              "    .colab-df-convert {\n",
              "      background-color: #E8F0FE;\n",
              "      border: none;\n",
              "      border-radius: 50%;\n",
              "      cursor: pointer;\n",
              "      display: none;\n",
              "      fill: #1967D2;\n",
              "      height: 32px;\n",
              "      padding: 0 0 0 0;\n",
              "      width: 32px;\n",
              "    }\n",
              "\n",
              "    .colab-df-convert:hover {\n",
              "      background-color: #E2EBFA;\n",
              "      box-shadow: 0px 1px 2px rgba(60, 64, 67, 0.3), 0px 1px 3px 1px rgba(60, 64, 67, 0.15);\n",
              "      fill: #174EA6;\n",
              "    }\n",
              "\n",
              "    .colab-df-buttons div {\n",
              "      margin-bottom: 4px;\n",
              "    }\n",
              "\n",
              "    [theme=dark] .colab-df-convert {\n",
              "      background-color: #3B4455;\n",
              "      fill: #D2E3FC;\n",
              "    }\n",
              "\n",
              "    [theme=dark] .colab-df-convert:hover {\n",
              "      background-color: #434B5C;\n",
              "      box-shadow: 0px 1px 3px 1px rgba(0, 0, 0, 0.15);\n",
              "      filter: drop-shadow(0px 1px 2px rgba(0, 0, 0, 0.3));\n",
              "      fill: #FFFFFF;\n",
              "    }\n",
              "  </style>\n",
              "\n",
              "    <script>\n",
              "      const buttonEl =\n",
              "        document.querySelector('#df-5b747a98-1471-4f36-b59b-52b5a57c1e7e button.colab-df-convert');\n",
              "      buttonEl.style.display =\n",
              "        google.colab.kernel.accessAllowed ? 'block' : 'none';\n",
              "\n",
              "      async function convertToInteractive(key) {\n",
              "        const element = document.querySelector('#df-5b747a98-1471-4f36-b59b-52b5a57c1e7e');\n",
              "        const dataTable =\n",
              "          await google.colab.kernel.invokeFunction('convertToInteractive',\n",
              "                                                    [key], {});\n",
              "        if (!dataTable) return;\n",
              "\n",
              "        const docLinkHtml = 'Like what you see? Visit the ' +\n",
              "          '<a target=\"_blank\" href=https://colab.research.google.com/notebooks/data_table.ipynb>data table notebook</a>'\n",
              "          + ' to learn more about interactive tables.';\n",
              "        element.innerHTML = '';\n",
              "        dataTable['output_type'] = 'display_data';\n",
              "        await google.colab.output.renderOutput(dataTable, element);\n",
              "        const docLink = document.createElement('div');\n",
              "        docLink.innerHTML = docLinkHtml;\n",
              "        element.appendChild(docLink);\n",
              "      }\n",
              "    </script>\n",
              "  </div>\n",
              "\n",
              "\n",
              "<div id=\"df-71db55b4-6347-4880-843a-ec01a3fbe5fd\">\n",
              "  <button class=\"colab-df-quickchart\" onclick=\"quickchart('df-71db55b4-6347-4880-843a-ec01a3fbe5fd')\"\n",
              "            title=\"Suggest charts\"\n",
              "            style=\"display:none;\">\n",
              "\n",
              "<svg xmlns=\"http://www.w3.org/2000/svg\" height=\"24px\"viewBox=\"0 0 24 24\"\n",
              "     width=\"24px\">\n",
              "    <g>\n",
              "        <path d=\"M19 3H5c-1.1 0-2 .9-2 2v14c0 1.1.9 2 2 2h14c1.1 0 2-.9 2-2V5c0-1.1-.9-2-2-2zM9 17H7v-7h2v7zm4 0h-2V7h2v10zm4 0h-2v-4h2v4z\"/>\n",
              "    </g>\n",
              "</svg>\n",
              "  </button>\n",
              "\n",
              "<style>\n",
              "  .colab-df-quickchart {\n",
              "      --bg-color: #E8F0FE;\n",
              "      --fill-color: #1967D2;\n",
              "      --hover-bg-color: #E2EBFA;\n",
              "      --hover-fill-color: #174EA6;\n",
              "      --disabled-fill-color: #AAA;\n",
              "      --disabled-bg-color: #DDD;\n",
              "  }\n",
              "\n",
              "  [theme=dark] .colab-df-quickchart {\n",
              "      --bg-color: #3B4455;\n",
              "      --fill-color: #D2E3FC;\n",
              "      --hover-bg-color: #434B5C;\n",
              "      --hover-fill-color: #FFFFFF;\n",
              "      --disabled-bg-color: #3B4455;\n",
              "      --disabled-fill-color: #666;\n",
              "  }\n",
              "\n",
              "  .colab-df-quickchart {\n",
              "    background-color: var(--bg-color);\n",
              "    border: none;\n",
              "    border-radius: 50%;\n",
              "    cursor: pointer;\n",
              "    display: none;\n",
              "    fill: var(--fill-color);\n",
              "    height: 32px;\n",
              "    padding: 0;\n",
              "    width: 32px;\n",
              "  }\n",
              "\n",
              "  .colab-df-quickchart:hover {\n",
              "    background-color: var(--hover-bg-color);\n",
              "    box-shadow: 0 1px 2px rgba(60, 64, 67, 0.3), 0 1px 3px 1px rgba(60, 64, 67, 0.15);\n",
              "    fill: var(--button-hover-fill-color);\n",
              "  }\n",
              "\n",
              "  .colab-df-quickchart-complete:disabled,\n",
              "  .colab-df-quickchart-complete:disabled:hover {\n",
              "    background-color: var(--disabled-bg-color);\n",
              "    fill: var(--disabled-fill-color);\n",
              "    box-shadow: none;\n",
              "  }\n",
              "\n",
              "  .colab-df-spinner {\n",
              "    border: 2px solid var(--fill-color);\n",
              "    border-color: transparent;\n",
              "    border-bottom-color: var(--fill-color);\n",
              "    animation:\n",
              "      spin 1s steps(1) infinite;\n",
              "  }\n",
              "\n",
              "  @keyframes spin {\n",
              "    0% {\n",
              "      border-color: transparent;\n",
              "      border-bottom-color: var(--fill-color);\n",
              "      border-left-color: var(--fill-color);\n",
              "    }\n",
              "    20% {\n",
              "      border-color: transparent;\n",
              "      border-left-color: var(--fill-color);\n",
              "      border-top-color: var(--fill-color);\n",
              "    }\n",
              "    30% {\n",
              "      border-color: transparent;\n",
              "      border-left-color: var(--fill-color);\n",
              "      border-top-color: var(--fill-color);\n",
              "      border-right-color: var(--fill-color);\n",
              "    }\n",
              "    40% {\n",
              "      border-color: transparent;\n",
              "      border-right-color: var(--fill-color);\n",
              "      border-top-color: var(--fill-color);\n",
              "    }\n",
              "    60% {\n",
              "      border-color: transparent;\n",
              "      border-right-color: var(--fill-color);\n",
              "    }\n",
              "    80% {\n",
              "      border-color: transparent;\n",
              "      border-right-color: var(--fill-color);\n",
              "      border-bottom-color: var(--fill-color);\n",
              "    }\n",
              "    90% {\n",
              "      border-color: transparent;\n",
              "      border-bottom-color: var(--fill-color);\n",
              "    }\n",
              "  }\n",
              "</style>\n",
              "\n",
              "  <script>\n",
              "    async function quickchart(key) {\n",
              "      const quickchartButtonEl =\n",
              "        document.querySelector('#' + key + ' button');\n",
              "      quickchartButtonEl.disabled = true;  // To prevent multiple clicks.\n",
              "      quickchartButtonEl.classList.add('colab-df-spinner');\n",
              "      try {\n",
              "        const charts = await google.colab.kernel.invokeFunction(\n",
              "            'suggestCharts', [key], {});\n",
              "      } catch (error) {\n",
              "        console.error('Error during call to suggestCharts:', error);\n",
              "      }\n",
              "      quickchartButtonEl.classList.remove('colab-df-spinner');\n",
              "      quickchartButtonEl.classList.add('colab-df-quickchart-complete');\n",
              "    }\n",
              "    (() => {\n",
              "      let quickchartButtonEl =\n",
              "        document.querySelector('#df-71db55b4-6347-4880-843a-ec01a3fbe5fd button');\n",
              "      quickchartButtonEl.style.display =\n",
              "        google.colab.kernel.accessAllowed ? 'block' : 'none';\n",
              "    })();\n",
              "  </script>\n",
              "</div>\n",
              "    </div>\n",
              "  </div>\n"
            ]
          },
          "metadata": {},
          "execution_count": 35
        }
      ]
    },
    {
      "source": [
        "from matplotlib import pyplot as plt\n",
        "_df_0['Score'].plot(kind='hist', bins=20, title='Score')\n",
        "plt.gca().spines[['top', 'right',]].set_visible(False)"
      ],
      "cell_type": "code",
      "metadata": {
        "colab": {
          "base_uri": "https://localhost:8080/",
          "height": 452
        },
        "id": "htW18_BNm375",
        "outputId": "bac67975-231c-40b9-8af3-fcb2fc5baa4d"
      },
      "execution_count": null,
      "outputs": [
        {
          "output_type": "display_data",
          "data": {
            "text/plain": [
              "<Figure size 640x480 with 1 Axes>"
            ],
            "image/png": "[encoded data removed]"
          },
          "metadata": {}
        }
      ]
    },
    {
      "cell_type": "code",
      "source": [
        "!git clone 'https://github.com/erayon/seizures.git'"
      ],
      "metadata": {
        "colab": {
          "base_uri": "https://localhost:8080/"
        },
        "id": "P4saj2nVpZcE",
        "outputId": "fe6da6cf-52df-470c-94c3-1c902ba1bf23"
      },
      "execution_count": null,
      "outputs": [
        {
          "output_type": "stream",
          "name": "stdout",
          "text": [
            "fatal: destination path 'seizures' already exists and is not an empty directory.\n"
          ]
        }
      ]
    },
    {
      "cell_type": "code",
      "source": [
        "cd seizures"
      ],
      "metadata": {
        "colab": {
          "base_uri": "https://localhost:8080/"
        },
        "id": "7QDCF9fnrKWc",
        "outputId": "c946a23f-9c99-45b7-b28f-8d9c0e5af0e6"
      },
      "execution_count": null,
      "outputs": [
        {
          "output_type": "stream",
          "name": "stdout",
          "text": [
            "/content/seizures\n"
          ]
        }
      ]
    },
    {
      "cell_type": "code",
      "source": [
        "cd Datasets"
      ],
      "metadata": {
        "colab": {
          "base_uri": "https://localhost:8080/"
        },
        "id": "lQHN-09lrPIH",
        "outputId": "cea7682d-dd29-44a9-c1ba-c33c1ab16190"
      },
      "execution_count": null,
      "outputs": [
        {
          "output_type": "stream",
          "name": "stdout",
          "text": [
            "/content/seizures/Datasets\n"
          ]
        }
      ]
    },
    {
      "cell_type": "code",
      "source": [
        "!git clone https://github.com/forrestbao/pyeeg.git\n",
        "!cd pyeeg\n",
        "!python setup.py install\n",
        "!python setup.py install --user\n"
      ],
      "metadata": {
        "colab": {
          "base_uri": "https://localhost:8080/"
        },
        "id": "lmAyKL1brubO",
        "outputId": "e1c7858d-947e-4f49-e8f6-a20d9da12da2"
      },
      "execution_count": null,
      "outputs": [
        {
          "output_type": "stream",
          "name": "stdout",
          "text": [
            "fatal: destination path 'pyeeg' already exists and is not an empty directory.\n",
            "python3: can't open file '/content/seizures/Datasets/setup.py': [Errno 2] No such file or directory\n",
            "python3: can't open file '/content/seizures/Datasets/setup.py': [Errno 2] No such file or directory\n"
          ]
        }
      ]
    },
    {
      "cell_type": "code",
      "source": [
        "import numpy as np\n",
        "import pandas as pd\n",
        "import matplotlib.pyplot as plt\n",
        "from time import sleep\n",
        "import os\n",
        "import pyeeg\n",
        "import warnings\n",
        "warnings.filterwarnings(\"ignore\", category=np.VisibleDeprecationWarning)\n",
        "%matplotlib inline"
      ],
      "metadata": {
        "id": "Sogc0QtqnDQ5"
      },
      "execution_count": null,
      "outputs": []
    },
    {
      "cell_type": "code",
      "source": [
        "from google.colab import drive\n",
        "drive.mount('/content/drive')"
      ],
      "metadata": {
        "id": "hA4OItU9s5jm",
        "colab": {
          "base_uri": "https://localhost:8080/"
        },
        "outputId": "402df8bd-5d8e-4106-b12f-8cbdc391e8b7"
      },
      "execution_count": null,
      "outputs": [
        {
          "output_type": "stream",
          "name": "stdout",
          "text": [
            "Drive already mounted at /content/drive; to attempt to forcibly remount, call drive.mount(\"/content/drive\", force_remount=True).\n"
          ]
        }
      ]
    },
    {
      "cell_type": "code",
      "source": [
        "dirB = \"/content/drive/MyDrive/dataset/Datasets/setB/\"\n",
        "dirC = \"/content/drive/MyDrive/dataset/Datasets/setC/\"\n",
        "dirE = \"/content/drive/MyDrive/dataset/Datasets/setE/\""
      ],
      "metadata": {
        "id": "jUAvKuoFuiBx"
      },
      "execution_count": null,
      "outputs": []
    },
    {
      "cell_type": "code",
      "source": [
        "tempB = sorted(os.listdir(dirB))\n",
        "tempC = sorted(os.listdir(dirC))\n",
        "tempE = sorted(os.listdir(dirE))\n"
      ],
      "metadata": {
        "id": "hiWy1DZDutrs"
      },
      "execution_count": null,
      "outputs": []
    },
    {
      "cell_type": "code",
      "source": [
        "print(tempB)"
      ],
      "metadata": {
        "colab": {
          "base_uri": "https://localhost:8080/"
        },
        "id": "PWFjTmvzu57B",
        "outputId": "9e070018-070b-49ea-f487-e91e7ed64e24"
      },
      "execution_count": null,
      "outputs": [
        {
          "output_type": "stream",
          "name": "stdout",
          "text": [
            "['O001.txt', 'O002.txt', 'O003.txt', 'O004.txt', 'O005.txt', 'O006.txt', 'O007.txt', 'O008.txt', 'O009.txt', 'O010.txt', 'O011.txt', 'O012.txt', 'O013.txt', 'O014.txt', 'O015.txt', 'O016.txt', 'O017.txt', 'O018.txt', 'O019.txt', 'O020.txt', 'O021.txt', 'O022.txt', 'O023.txt', 'O024.txt', 'O025.txt', 'O026.txt', 'O027.txt', 'O028.txt', 'O029.txt', 'O030.txt', 'O031.txt', 'O032.txt', 'O033.txt', 'O034.txt', 'O035.txt', 'O036.txt', 'O037.txt', 'O038.txt', 'O039.txt', 'O040.txt', 'O041.txt', 'O042.txt', 'O043.txt', 'O044.txt', 'O045.txt', 'O046.txt', 'O047.txt', 'O048.txt', 'O049.txt', 'O050.txt', 'O051.txt', 'O052.txt', 'O053.txt', 'O054.txt', 'O055.txt', 'O056.txt', 'O057.txt', 'O058.txt', 'O059.txt', 'O060.txt', 'O061.txt', 'O062.txt', 'O063.txt', 'O064.txt', 'O065.txt', 'O066.txt', 'O067.txt', 'O068.txt', 'O069.txt', 'O070.txt', 'O071.txt', 'O072.txt', 'O073.txt', 'O074.txt', 'O075.txt', 'O076.txt', 'O077.txt', 'O078.txt', 'O079.txt', 'O080.txt', 'O081.txt', 'O082.txt', 'O083.txt', 'O084.txt', 'O085.txt', 'O086.txt', 'O087.txt', 'O088.txt', 'O089.txt', 'O090.txt', 'O091.txt', 'O092.txt', 'O093.txt', 'O094.txt', 'O095.txt', 'O096.txt', 'O097.txt', 'O098.txt', 'O099.txt', 'O100.txt']\n"
          ]
        }
      ]
    },
    {
      "cell_type": "code",
      "source": [
        "print(tempB[0])"
      ],
      "metadata": {
        "colab": {
          "base_uri": "https://localhost:8080/"
        },
        "id": "eJa9xOxE2t0N",
        "outputId": "582875a1-dde3-4172-efd1-243cb36efce6"
      },
      "execution_count": null,
      "outputs": [
        {
          "output_type": "stream",
          "name": "stdout",
          "text": [
            "O001.txt\n"
          ]
        }
      ]
    },
    {
      "cell_type": "code",
      "source": [
        "tb = []\n",
        "st = 'A'\n",
        "for i in range(len(tempB)):\n",
        "    file_path = os.path.join(dirB, tempB[i])\n",
        "    x = pd.read_table(file_path, header=None)\n",
        "    x.columns = [st + str(i)]\n",
        "    tb.append(x)\n",
        "tc = []\n",
        "st = 'A'\n",
        "for i in range(len(tempC)):\n",
        "    file_path = os.path.join(dirC, tempC[i])\n",
        "    x = pd.read_table(file_path, header=None)\n",
        "    x.columns = [st + str(i)]\n",
        "    tc.append(x)\n",
        "te = []\n",
        "st = 'A'\n",
        "for i in range(len(tempE)):\n",
        "    file_path = os.path.join(dirE, tempE[i])\n",
        "    x = pd.read_table(file_path, header=None)\n",
        "    x.columns = [st + str(i)]\n",
        "    te.append(x)\n"
      ],
      "metadata": {
        "id": "N9esU92s21q6"
      },
      "execution_count": null,
      "outputs": []
    },
    {
      "cell_type": "code",
      "source": [
        "def table(table):\n",
        "    big_table = None\n",
        "    for ta in table:\n",
        "        big_table = pd.concat([big_table, ta],axis=1)\n",
        "    return big_table"
      ],
      "metadata": {
        "id": "iWDUsoRt4HS9"
      },
      "execution_count": null,
      "outputs": []
    },
    {
      "cell_type": "code",
      "source": [
        "bigB = table(tb)\n",
        "bigC = table(tc)\n",
        "bigE = table(te)\n",
        "head = list(bigB.columns.values)"
      ],
      "metadata": {
        "id": "E-m9nMQY4vO4"
      },
      "execution_count": null,
      "outputs": []
    },
    {
      "cell_type": "code",
      "source": [
        "len(bigB.columns)"
      ],
      "metadata": {
        "colab": {
          "base_uri": "https://localhost:8080/"
        },
        "id": "_BDN5a-q41Iw",
        "outputId": "3e9980b9-1499-486b-bb07-e4eef8903040"
      },
      "execution_count": null,
      "outputs": [
        {
          "output_type": "execute_result",
          "data": {
            "text/plain": [
              "100"
            ]
          },
          "metadata": {},
          "execution_count": 15
        }
      ]
    },
    {
      "cell_type": "code",
      "source": [
        "bigB.head(10)"
      ],
      "metadata": {
        "id": "kInGszPL45vd",
        "colab": {
          "base_uri": "https://localhost:8080/",
          "height": 392
        },
        "outputId": "90efd3b7-59e9-404d-a8a8-204af1f60ac9"
      },
      "execution_count": null,
      "outputs": [
        {
          "output_type": "execute_result",
          "data": {
            "text/plain": [
              "   A0  A1  A2  A3  A4   A5   A6  A7  A8  A9  ...  A90  A91  A92  A93  A94  \\\n",
              "0 -24 -55 -36 -14 -58   87  -52   2   8 -53  ...   62 -128  -83   98  -53   \n",
              "1 -22 -48 -40  -5 -78   98  -56  -6   0 -15  ...   49 -158 -120  178  -33   \n",
              "2 -17 -48 -36   0 -83  103  -49 -22 -16  11  ...   14 -161 -123  236  -23   \n",
              "3 -18 -38 -35   7 -69  108  -51 -17 -38  38  ...  -14 -158 -119  237    0   \n",
              "4 -19 -23 -22   7 -31   97  -53   6 -31  35  ...  -14 -152  -93  187   10   \n",
              "5 -14   0 -15  -4  -4   86  -71  26 -19  48  ...  -11 -144  -45   94   26   \n",
              "6  -4  11  -4 -18  10   71  -96  40  12  65  ...   -2 -117   17  -13   37   \n",
              "7  -1  22  13 -15   9   76 -119  42  37  72  ...  -16  -65   77 -114   28   \n",
              "8   7  21  33  -6   1   96 -110  35  43  44  ...  -34   -5  103 -185   15   \n",
              "9  17   3  38   4 -10  100  -90  19  48  -2  ...  -57   61  120 -219    1   \n",
              "\n",
              "   A95  A96  A97  A98  A99  \n",
              "0   29  -76   27   -6  -18  \n",
              "1   10 -102    4  -19  -13  \n",
              "2  -26  -95    1  -47    0  \n",
              "3  -81  -65   19  -83    9  \n",
              "4 -127  -30   43  -99    6  \n",
              "5 -148    2   57 -104  -20  \n",
              "6 -140   25   54  -81  -67  \n",
              "7 -104   40   40  -46 -126  \n",
              "8  -78   33   19   -1 -162  \n",
              "9  -78   14   25   30 -165  \n",
              "\n",
              "[10 rows x 100 columns]"
            ],
            "text/html": [
              "\n",
              "  <div id=\"df-76542d7f-3e75-4d80-9d4b-48ec8a9897b0\" class=\"colab-df-container\">\n",
              "    <div>\n",
              "<style scoped>\n",
              "    .dataframe tbody tr th:only-of-type {\n",
              "        vertical-align: middle;\n",
              "    }\n",
              "\n",
              "    .dataframe tbody tr th {\n",
              "        vertical-align: top;\n",
              "    }\n",
              "\n",
              "    .dataframe thead th {\n",
              "        text-align: right;\n",
              "    }\n",
              "</style>\n",
              "<table border=\"1\" class=\"dataframe\">\n",
              "  <thead>\n",
              "    <tr style=\"text-align: right;\">\n",
              "      <th></th>\n",
              "      <th>A0</th>\n",
              "      <th>A1</th>\n",
              "      <th>A2</th>\n",
              "      <th>A3</th>\n",
              "      <th>A4</th>\n",
              "      <th>A5</th>\n",
              "      <th>A6</th>\n",
              "      <th>A7</th>\n",
              "      <th>A8</th>\n",
              "      <th>A9</th>\n",
              "      <th>...</th>\n",
              "      <th>A90</th>\n",
              "      <th>A91</th>\n",
              "      <th>A92</th>\n",
              "      <th>A93</th>\n",
              "      <th>A94</th>\n",
              "      <th>A95</th>\n",
              "      <th>A96</th>\n",
              "      <th>A97</th>\n",
              "      <th>A98</th>\n",
              "      <th>A99</th>\n",
              "    </tr>\n",
              "  </thead>\n",
              "  <tbody>\n",
              "    <tr>\n",
              "      <th>0</th>\n",
              "      <td>-24</td>\n",
              "      <td>-55</td>\n",
              "      <td>-36</td>\n",
              "      <td>-14</td>\n",
              "      <td>-58</td>\n",
              "      <td>87</td>\n",
              "      <td>-52</td>\n",
              "      <td>2</td>\n",
              "      <td>8</td>\n",
              "      <td>-53</td>\n",
              "      <td>...</td>\n",
              "      <td>62</td>\n",
              "      <td>-128</td>\n",
              "      <td>-83</td>\n",
              "      <td>98</td>\n",
              "      <td>-53</td>\n",
              "      <td>29</td>\n",
              "      <td>-76</td>\n",
              "      <td>27</td>\n",
              "      <td>-6</td>\n",
              "      <td>-18</td>\n",
              "    </tr>\n",
              "    <tr>\n",
              "      <th>1</th>\n",
              "      <td>-22</td>\n",
              "      <td>-48</td>\n",
              "      <td>-40</td>\n",
              "      <td>-5</td>\n",
              "      <td>-78</td>\n",
              "      <td>98</td>\n",
              "      <td>-56</td>\n",
              "      <td>-6</td>\n",
              "      <td>0</td>\n",
              "      <td>-15</td>\n",
              "      <td>...</td>\n",
              "      <td>49</td>\n",
              "      <td>-158</td>\n",
              "      <td>-120</td>\n",
              "      <td>178</td>\n",
              "      <td>-33</td>\n",
              "      <td>10</td>\n",
              "      <td>-102</td>\n",
              "      <td>4</td>\n",
              "      <td>-19</td>\n",
              "      <td>-13</td>\n",
              "    </tr>\n",
              "    <tr>\n",
              "      <th>2</th>\n",
              "      <td>-17</td>\n",
              "      <td>-48</td>\n",
              "      <td>-36</td>\n",
              "      <td>0</td>\n",
              "      <td>-83</td>\n",
              "      <td>103</td>\n",
              "      <td>-49</td>\n",
              "      <td>-22</td>\n",
              "      <td>-16</td>\n",
              "      <td>11</td>\n",
              "      <td>...</td>\n",
              "      <td>14</td>\n",
              "      <td>-161</td>\n",
              "      <td>-123</td>\n",
              "      <td>236</td>\n",
              "      <td>-23</td>\n",
              "      <td>-26</td>\n",
              "      <td>-95</td>\n",
              "      <td>1</td>\n",
              "      <td>-47</td>\n",
              "      <td>0</td>\n",
              "    </tr>\n",
              "    <tr>\n",
              "      <th>3</th>\n",
              "      <td>-18</td>\n",
              "      <td>-38</td>\n",
              "      <td>-35</td>\n",
              "      <td>7</td>\n",
              "      <td>-69</td>\n",
              "      <td>108</td>\n",
              "      <td>-51</td>\n",
              "      <td>-17</td>\n",
              "      <td>-38</td>\n",
              "      <td>38</td>\n",
              "      <td>...</td>\n",
              "      <td>-14</td>\n",
              "      <td>-158</td>\n",
              "      <td>-119</td>\n",
              "      <td>237</td>\n",
              "      <td>0</td>\n",
              "      <td>-81</td>\n",
              "      <td>-65</td>\n",
              "      <td>19</td>\n",
              "      <td>-83</td>\n",
              "      <td>9</td>\n",
              "    </tr>\n",
              "    <tr>\n",
              "      <th>4</th>\n",
              "      <td>-19</td>\n",
              "      <td>-23</td>\n",
              "      <td>-22</td>\n",
              "      <td>7</td>\n",
              "      <td>-31</td>\n",
              "      <td>97</td>\n",
              "      <td>-53</td>\n",
              "      <td>6</td>\n",
              "      <td>-31</td>\n",
              "      <td>35</td>\n",
              "      <td>...</td>\n",
              "      <td>-14</td>\n",
              "      <td>-152</td>\n",
              "      <td>-93</td>\n",
              "      <td>187</td>\n",
              "      <td>10</td>\n",
              "      <td>-127</td>\n",
              "      <td>-30</td>\n",
              "      <td>43</td>\n",
              "      <td>-99</td>\n",
              "      <td>6</td>\n",
              "    </tr>\n",
              "    <tr>\n",
              "      <th>5</th>\n",
              "      <td>-14</td>\n",
              "      <td>0</td>\n",
              "      <td>-15</td>\n",
              "      <td>-4</td>\n",
              "      <td>-4</td>\n",
              "      <td>86</td>\n",
              "      <td>-71</td>\n",
              "      <td>26</td>\n",
              "      <td>-19</td>\n",
              "      <td>48</td>\n",
              "      <td>...</td>\n",
              "      <td>-11</td>\n",
              "      <td>-144</td>\n",
              "      <td>-45</td>\n",
              "      <td>94</td>\n",
              "      <td>26</td>\n",
              "      <td>-148</td>\n",
              "      <td>2</td>\n",
              "      <td>57</td>\n",
              "      <td>-104</td>\n",
              "      <td>-20</td>\n",
              "    </tr>\n",
              "    <tr>\n",
              "      <th>6</th>\n",
              "      <td>-4</td>\n",
              "      <td>11</td>\n",
              "      <td>-4</td>\n",
              "      <td>-18</td>\n",
              "      <td>10</td>\n",
              "      <td>71</td>\n",
              "      <td>-96</td>\n",
              "      <td>40</td>\n",
              "      <td>12</td>\n",
              "      <td>65</td>\n",
              "      <td>...</td>\n",
              "      <td>-2</td>\n",
              "      <td>-117</td>\n",
              "      <td>17</td>\n",
              "      <td>-13</td>\n",
              "      <td>37</td>\n",
              "      <td>-140</td>\n",
              "      <td>25</td>\n",
              "      <td>54</td>\n",
              "      <td>-81</td>\n",
              "      <td>-67</td>\n",
              "    </tr>\n",
              "    <tr>\n",
              "      <th>7</th>\n",
              "      <td>-1</td>\n",
              "      <td>22</td>\n",
              "      <td>13</td>\n",
              "      <td>-15</td>\n",
              "      <td>9</td>\n",
              "      <td>76</td>\n",
              "      <td>-119</td>\n",
              "      <td>42</td>\n",
              "      <td>37</td>\n",
              "      <td>72</td>\n",
              "      <td>...</td>\n",
              "      <td>-16</td>\n",
              "      <td>-65</td>\n",
              "      <td>77</td>\n",
              "      <td>-114</td>\n",
              "      <td>28</td>\n",
              "      <td>-104</td>\n",
              "      <td>40</td>\n",
              "      <td>40</td>\n",
              "      <td>-46</td>\n",
              "      <td>-126</td>\n",
              "    </tr>\n",
              "    <tr>\n",
              "      <th>8</th>\n",
              "      <td>7</td>\n",
              "      <td>21</td>\n",
              "      <td>33</td>\n",
              "      <td>-6</td>\n",
              "      <td>1</td>\n",
              "      <td>96</td>\n",
              "      <td>-110</td>\n",
              "      <td>35</td>\n",
              "      <td>43</td>\n",
              "      <td>44</td>\n",
              "      <td>...</td>\n",
              "      <td>-34</td>\n",
              "      <td>-5</td>\n",
              "      <td>103</td>\n",
              "      <td>-185</td>\n",
              "      <td>15</td>\n",
              "      <td>-78</td>\n",
              "      <td>33</td>\n",
              "      <td>19</td>\n",
              "      <td>-1</td>\n",
              "      <td>-162</td>\n",
              "    </tr>\n",
              "    <tr>\n",
              "      <th>9</th>\n",
              "      <td>17</td>\n",
              "      <td>3</td>\n",
              "      <td>38</td>\n",
              "      <td>4</td>\n",
              "      <td>-10</td>\n",
              "      <td>100</td>\n",
              "      <td>-90</td>\n",
              "      <td>19</td>\n",
              "      <td>48</td>\n",
              "      <td>-2</td>\n",
              "      <td>...</td>\n",
              "      <td>-57</td>\n",
              "      <td>61</td>\n",
              "      <td>120</td>\n",
              "      <td>-219</td>\n",
              "      <td>1</td>\n",
              "      <td>-78</td>\n",
              "      <td>14</td>\n",
              "      <td>25</td>\n",
              "      <td>30</td>\n",
              "      <td>-165</td>\n",
              "    </tr>\n",
              "  </tbody>\n",
              "</table>\n",
              "<p>10 rows × 100 columns</p>\n",
              "</div>\n",
              "    <div class=\"colab-df-buttons\">\n",
              "\n",
              "  <div class=\"colab-df-container\">\n",
              "    <button class=\"colab-df-convert\" onclick=\"convertToInteractive('df-76542d7f-3e75-4d80-9d4b-48ec8a9897b0')\"\n",
              "            title=\"Convert this dataframe to an interactive table.\"\n",
              "            style=\"display:none;\">\n",
              "\n",
              "  <svg xmlns=\"http://www.w3.org/2000/svg\" height=\"24px\" viewBox=\"0 -960 960 960\">\n",
              "    <path d=\"M120-120v-720h720v720H120Zm60-500h600v-160H180v160Zm220 220h160v-160H400v160Zm0 220h160v-160H400v160ZM180-400h160v-160H180v160Zm440 0h160v-160H620v160ZM180-180h160v-160H180v160Zm440 0h160v-160H620v160Z\"/>\n",
              "  </svg>\n",
              "    </button>\n",
              "\n",
              "  <style>\n",
              "    .colab-df-container {\n",
              "      display:flex;\n",
              "      gap: 12px;\n",
              "    }\n",
              "\n",
              "    .colab-df-convert {\n",
              "      background-color: #E8F0FE;\n",
              "      border: none;\n",
              "      border-radius: 50%;\n",
              "      cursor: pointer;\n",
              "      display: none;\n",
              "      fill: #1967D2;\n",
              "      height: 32px;\n",
              "      padding: 0 0 0 0;\n",
              "      width: 32px;\n",
              "    }\n",
              "\n",
              "    .colab-df-convert:hover {\n",
              "      background-color: #E2EBFA;\n",
              "      box-shadow: 0px 1px 2px rgba(60, 64, 67, 0.3), 0px 1px 3px 1px rgba(60, 64, 67, 0.15);\n",
              "      fill: #174EA6;\n",
              "    }\n",
              "\n",
              "    .colab-df-buttons div {\n",
              "      margin-bottom: 4px;\n",
              "    }\n",
              "\n",
              "    [theme=dark] .colab-df-convert {\n",
              "      background-color: #3B4455;\n",
              "      fill: #D2E3FC;\n",
              "    }\n",
              "\n",
              "    [theme=dark] .colab-df-convert:hover {\n",
              "      background-color: #434B5C;\n",
              "      box-shadow: 0px 1px 3px 1px rgba(0, 0, 0, 0.15);\n",
              "      filter: drop-shadow(0px 1px 2px rgba(0, 0, 0, 0.3));\n",
              "      fill: #FFFFFF;\n",
              "    }\n",
              "  </style>\n",
              "\n",
              "    <script>\n",
              "      const buttonEl =\n",
              "        document.querySelector('#df-76542d7f-3e75-4d80-9d4b-48ec8a9897b0 button.colab-df-convert');\n",
              "      buttonEl.style.display =\n",
              "        google.colab.kernel.accessAllowed ? 'block' : 'none';\n",
              "\n",
              "      async function convertToInteractive(key) {\n",
              "        const element = document.querySelector('#df-76542d7f-3e75-4d80-9d4b-48ec8a9897b0');\n",
              "        const dataTable =\n",
              "          await google.colab.kernel.invokeFunction('convertToInteractive',\n",
              "                                                    [key], {});\n",
              "        if (!dataTable) return;\n",
              "\n",
              "        const docLinkHtml = 'Like what you see? Visit the ' +\n",
              "          '<a target=\"_blank\" href=https://colab.research.google.com/notebooks/data_table.ipynb>data table notebook</a>'\n",
              "          + ' to learn more about interactive tables.';\n",
              "        element.innerHTML = '';\n",
              "        dataTable['output_type'] = 'display_data';\n",
              "        await google.colab.output.renderOutput(dataTable, element);\n",
              "        const docLink = document.createElement('div');\n",
              "        docLink.innerHTML = docLinkHtml;\n",
              "        element.appendChild(docLink);\n",
              "      }\n",
              "    </script>\n",
              "  </div>\n",
              "\n",
              "\n",
              "<div id=\"df-ea94feab-4563-4dc8-8151-ee39f012ae39\">\n",
              "  <button class=\"colab-df-quickchart\" onclick=\"quickchart('df-ea94feab-4563-4dc8-8151-ee39f012ae39')\"\n",
              "            title=\"Suggest charts\"\n",
              "            style=\"display:none;\">\n",
              "\n",
              "<svg xmlns=\"http://www.w3.org/2000/svg\" height=\"24px\"viewBox=\"0 0 24 24\"\n",
              "     width=\"24px\">\n",
              "    <g>\n",
              "        <path d=\"M19 3H5c-1.1 0-2 .9-2 2v14c0 1.1.9 2 2 2h14c1.1 0 2-.9 2-2V5c0-1.1-.9-2-2-2zM9 17H7v-7h2v7zm4 0h-2V7h2v10zm4 0h-2v-4h2v4z\"/>\n",
              "    </g>\n",
              "</svg>\n",
              "  </button>\n",
              "\n",
              "<style>\n",
              "  .colab-df-quickchart {\n",
              "      --bg-color: #E8F0FE;\n",
              "      --fill-color: #1967D2;\n",
              "      --hover-bg-color: #E2EBFA;\n",
              "      --hover-fill-color: #174EA6;\n",
              "      --disabled-fill-color: #AAA;\n",
              "      --disabled-bg-color: #DDD;\n",
              "  }\n",
              "\n",
              "  [theme=dark] .colab-df-quickchart {\n",
              "      --bg-color: #3B4455;\n",
              "      --fill-color: #D2E3FC;\n",
              "      --hover-bg-color: #434B5C;\n",
              "      --hover-fill-color: #FFFFFF;\n",
              "      --disabled-bg-color: #3B4455;\n",
              "      --disabled-fill-color: #666;\n",
              "  }\n",
              "\n",
              "  .colab-df-quickchart {\n",
              "    background-color: var(--bg-color);\n",
              "    border: none;\n",
              "    border-radius: 50%;\n",
              "    cursor: pointer;\n",
              "    display: none;\n",
              "    fill: var(--fill-color);\n",
              "    height: 32px;\n",
              "    padding: 0;\n",
              "    width: 32px;\n",
              "  }\n",
              "\n",
              "  .colab-df-quickchart:hover {\n",
              "    background-color: var(--hover-bg-color);\n",
              "    box-shadow: 0 1px 2px rgba(60, 64, 67, 0.3), 0 1px 3px 1px rgba(60, 64, 67, 0.15);\n",
              "    fill: var(--button-hover-fill-color);\n",
              "  }\n",
              "\n",
              "  .colab-df-quickchart-complete:disabled,\n",
              "  .colab-df-quickchart-complete:disabled:hover {\n",
              "    background-color: var(--disabled-bg-color);\n",
              "    fill: var(--disabled-fill-color);\n",
              "    box-shadow: none;\n",
              "  }\n",
              "\n",
              "  .colab-df-spinner {\n",
              "    border: 2px solid var(--fill-color);\n",
              "    border-color: transparent;\n",
              "    border-bottom-color: var(--fill-color);\n",
              "    animation:\n",
              "      spin 1s steps(1) infinite;\n",
              "  }\n",
              "\n",
              "  @keyframes spin {\n",
              "    0% {\n",
              "      border-color: transparent;\n",
              "      border-bottom-color: var(--fill-color);\n",
              "      border-left-color: var(--fill-color);\n",
              "    }\n",
              "    20% {\n",
              "      border-color: transparent;\n",
              "      border-left-color: var(--fill-color);\n",
              "      border-top-color: var(--fill-color);\n",
              "    }\n",
              "    30% {\n",
              "      border-color: transparent;\n",
              "      border-left-color: var(--fill-color);\n",
              "      border-top-color: var(--fill-color);\n",
              "      border-right-color: var(--fill-color);\n",
              "    }\n",
              "    40% {\n",
              "      border-color: transparent;\n",
              "      border-right-color: var(--fill-color);\n",
              "      border-top-color: var(--fill-color);\n",
              "    }\n",
              "    60% {\n",
              "      border-color: transparent;\n",
              "      border-right-color: var(--fill-color);\n",
              "    }\n",
              "    80% {\n",
              "      border-color: transparent;\n",
              "      border-right-color: var(--fill-color);\n",
              "      border-bottom-color: var(--fill-color);\n",
              "    }\n",
              "    90% {\n",
              "      border-color: transparent;\n",
              "      border-bottom-color: var(--fill-color);\n",
              "    }\n",
              "  }\n",
              "</style>\n",
              "\n",
              "  <script>\n",
              "    async function quickchart(key) {\n",
              "      const quickchartButtonEl =\n",
              "        document.querySelector('#' + key + ' button');\n",
              "      quickchartButtonEl.disabled = true;  // To prevent multiple clicks.\n",
              "      quickchartButtonEl.classList.add('colab-df-spinner');\n",
              "      try {\n",
              "        const charts = await google.colab.kernel.invokeFunction(\n",
              "            'suggestCharts', [key], {});\n",
              "      } catch (error) {\n",
              "        console.error('Error during call to suggestCharts:', error);\n",
              "      }\n",
              "      quickchartButtonEl.classList.remove('colab-df-spinner');\n",
              "      quickchartButtonEl.classList.add('colab-df-quickchart-complete');\n",
              "    }\n",
              "    (() => {\n",
              "      let quickchartButtonEl =\n",
              "        document.querySelector('#df-ea94feab-4563-4dc8-8151-ee39f012ae39 button');\n",
              "      quickchartButtonEl.style.display =\n",
              "        google.colab.kernel.accessAllowed ? 'block' : 'none';\n",
              "    })();\n",
              "  </script>\n",
              "</div>\n",
              "    </div>\n",
              "  </div>\n"
            ],
            "application/vnd.google.colaboratory.intrinsic+json": {
              "type": "dataframe",
              "variable_name": "bigB"
            }
          },
          "metadata": {},
          "execution_count": 16
        }
      ]
    },
    {
      "cell_type": "code",
      "source": [
        "def creat_mat(mat):\n",
        "    matx = np.zeros((len(mat),(len(head))))\n",
        "    for i in range(len(head)):\n",
        "        matx[:,i] = mat[head[i]]\n",
        "        sleep(0.01)\n",
        "    return matx"
      ],
      "metadata": {
        "id": "qFXx8hhg4-Jv"
      },
      "execution_count": null,
      "outputs": []
    },
    {
      "cell_type": "code",
      "source": [
        "\n",
        "matB = creat_mat(bigB) # : refers to healthy data\n",
        "matC = creat_mat(bigC) # : refers to Inter-ictal (transition between healthy to seizure)\n",
        "matE = creat_mat(bigE) # : of ictal or seizures\n",
        "\n",
        "matB = np.nan_to_num(matB)\n",
        "matC = np.nan_to_num(matC)\n",
        "matE = np.nan_to_num(matE)"
      ],
      "metadata": {
        "id": "B7Gk118X5DhL"
      },
      "execution_count": null,
      "outputs": []
    },
    {
      "cell_type": "code",
      "source": [
        "!sudo apt-get install python3.9 python3.9-dev python3.9-distutils libpython3.9-dev"
      ],
      "metadata": {
        "id": "b0tUzx39_ItN"
      },
      "execution_count": null,
      "outputs": []
    },
    {
      "cell_type": "code",
      "source": [
        "!sudo update-alternatives --install /usr/bin/python3 python3 /usr/bin/python3.9 2"
      ],
      "metadata": {
        "colab": {
          "base_uri": "https://localhost:8080/"
        },
        "id": "gUY53f-U97i_",
        "outputId": "c2096089-3572-4faa-a852-6fe8206a6b58"
      },
      "execution_count": null,
      "outputs": [
        {
          "output_type": "stream",
          "name": "stdout",
          "text": [
            "update-alternatives: using /usr/bin/python3.9 to provide /usr/bin/python3 (python3) in auto mode\n"
          ]
        }
      ]
    },
    {
      "cell_type": "code",
      "source": [
        "!python3 --version"
      ],
      "metadata": {
        "colab": {
          "base_uri": "https://localhost:8080/"
        },
        "id": "q-8eOecw-DKc",
        "outputId": "08f8ba68-78c8-4b40-8cd2-bf5f16b327f4"
      },
      "execution_count": null,
      "outputs": [
        {
          "output_type": "stream",
          "name": "stdout",
          "text": [
            "Python 3.9.18\n"
          ]
        }
      ]
    },
    {
      "cell_type": "code",
      "source": [
        "!curl https://bootstrap.pypa.io/get-pip.py -o get-pip.py"
      ],
      "metadata": {
        "colab": {
          "base_uri": "https://localhost:8080/"
        },
        "id": "JGFKk8q5-GNn",
        "outputId": "b1e5775e-b462-481a-d6b8-bf0aa53b7b7f"
      },
      "execution_count": null,
      "outputs": [
        {
          "output_type": "stream",
          "name": "stdout",
          "text": [
            "  % Total    % Received % Xferd  Average Speed   Time    Time     Time  Current\n",
            "                                 Dload  Upload   Total   Spent    Left  Speed\n",
            "100 2573k  100 2573k    0     0  5759k      0 --:--:-- --:--:-- --:--:-- 5769k\n"
          ]
        }
      ]
    },
    {
      "cell_type": "code",
      "source": [
        "!python3 get-pip.py --force-reinstall"
      ],
      "metadata": {
        "colab": {
          "base_uri": "https://localhost:8080/"
        },
        "id": "6AkI76x4-Slq",
        "outputId": "a63234a1-c310-4704-8599-6ba5ec85b2f1"
      },
      "execution_count": null,
      "outputs": [
        {
          "output_type": "stream",
          "name": "stdout",
          "text": [
            "Collecting pip\n",
            "  Downloading pip-23.3.2-py3-none-any.whl.metadata (3.5 kB)\n",
            "Collecting setuptools\n",
            "  Downloading setuptools-69.0.3-py3-none-any.whl.metadata (6.3 kB)\n",
            "Collecting wheel\n",
            "  Downloading wheel-0.42.0-py3-none-any.whl.metadata (2.2 kB)\n",
            "Downloading pip-23.3.2-py3-none-any.whl (2.1 MB)\n",
            "\u001b[2K   \u001b[90m━━━━━━━━━━━━━━━━━━━━━━━━━━━━━━━━━━━━━━━━\u001b[0m \u001b[32m2.1/2.1 MB\u001b[0m \u001b[31m15.3 MB/s\u001b[0m eta \u001b[36m0:00:00\u001b[0m\n",
            "\u001b[?25hDownloading setuptools-69.0.3-py3-none-any.whl (819 kB)\n",
            "\u001b[2K   \u001b[90m━━━━━━━━━━━━━━━━━━━━━━━━━━━━━━━━━━━━━━━━\u001b[0m \u001b[32m819.5/819.5 kB\u001b[0m \u001b[31m33.4 MB/s\u001b[0m eta \u001b[36m0:00:00\u001b[0m\n",
            "\u001b[?25hDownloading wheel-0.42.0-py3-none-any.whl (65 kB)\n",
            "\u001b[2K   \u001b[90m━━━━━━━━━━━━━━━━━━━━━━━━━━━━━━━━━━━━━━━━\u001b[0m \u001b[32m65.4/65.4 kB\u001b[0m \u001b[31m5.1 MB/s\u001b[0m eta \u001b[36m0:00:00\u001b[0m\n",
            "\u001b[?25hInstalling collected packages: wheel, setuptools, pip\n",
            "Successfully installed pip-23.3.2 setuptools-69.0.3 wheel-0.42.0\n",
            "\u001b[33mWARNING: Running pip as the 'root' user can result in broken permissions and conflicting behaviour with the system package manager. It is recommended to use a virtual environment instead: https://pip.pypa.io/warnings/venv\u001b[0m\u001b[33m\n",
            "\u001b[0m"
          ]
        }
      ]
    },
    {
      "cell_type": "code",
      "source": [
        "!python3 -m pip install ipython ipython_genutils ipykernel jupyter_console prompt_toolkit httplib2 astor"
      ],
      "metadata": {
        "colab": {
          "base_uri": "https://localhost:8080/"
        },
        "id": "Xc9El1Wg-WEH",
        "outputId": "d8643f7d-cc9f-4c67-d9b7-dd006ee2b0af"
      },
      "execution_count": null,
      "outputs": [
        {
          "output_type": "stream",
          "name": "stdout",
          "text": [
            "Collecting ipython\n",
            "  Downloading ipython-8.18.1-py3-none-any.whl.metadata (6.0 kB)\n",
            "Collecting ipython_genutils\n",
            "  Downloading ipython_genutils-0.2.0-py2.py3-none-any.whl (26 kB)\n",
            "Collecting ipykernel\n",
            "  Downloading ipykernel-6.29.0-py3-none-any.whl.metadata (6.0 kB)\n",
            "Collecting jupyter_console\n",
            "  Downloading jupyter_console-6.6.3-py3-none-any.whl (24 kB)\n",
            "Collecting prompt_toolkit\n",
            "  Downloading prompt_toolkit-3.0.43-py3-none-any.whl.metadata (6.5 kB)\n",
            "Collecting httplib2\n",
            "  Downloading httplib2-0.22.0-py3-none-any.whl (96 kB)\n",
            "\u001b[2K     \u001b[90m━━━━━━━━━━━━━━━━━━━━━━━━━━━━━━━━━━━━━━━━\u001b[0m \u001b[32m96.9/96.9 kB\u001b[0m \u001b[31m3.7 MB/s\u001b[0m eta \u001b[36m0:00:00\u001b[0m\n",
            "\u001b[?25hCollecting astor\n",
            "  Downloading astor-0.8.1-py2.py3-none-any.whl (27 kB)\n",
            "Collecting decorator (from ipython)\n",
            "  Downloading decorator-5.1.1-py3-none-any.whl (9.1 kB)\n",
            "Collecting jedi>=0.16 (from ipython)\n",
            "  Downloading jedi-0.19.1-py2.py3-none-any.whl.metadata (22 kB)\n",
            "Collecting matplotlib-inline (from ipython)\n",
            "  Downloading matplotlib_inline-0.1.6-py3-none-any.whl (9.4 kB)\n",
            "Collecting pygments>=2.4.0 (from ipython)\n",
            "  Downloading pygments-2.17.2-py3-none-any.whl.metadata (2.6 kB)\n",
            "Collecting stack-data (from ipython)\n",
            "  Downloading stack_data-0.6.3-py3-none-any.whl.metadata (18 kB)\n",
            "Collecting traitlets>=5 (from ipython)\n",
            "  Downloading traitlets-5.14.1-py3-none-any.whl.metadata (10 kB)\n",
            "Collecting typing-extensions (from ipython)\n",
            "  Downloading typing_extensions-4.9.0-py3-none-any.whl.metadata (3.0 kB)\n",
            "Collecting exceptiongroup (from ipython)\n",
            "  Downloading exceptiongroup-1.2.0-py3-none-any.whl.metadata (6.6 kB)\n",
            "Collecting pexpect>4.3 (from ipython)\n",
            "  Downloading pexpect-4.9.0-py2.py3-none-any.whl.metadata (2.5 kB)\n",
            "Collecting comm>=0.1.1 (from ipykernel)\n",
            "  Downloading comm-0.2.1-py3-none-any.whl.metadata (3.7 kB)\n",
            "Collecting debugpy>=1.6.5 (from ipykernel)\n",
            "  Downloading debugpy-1.8.0-cp39-cp39-manylinux_2_17_x86_64.manylinux2014_x86_64.whl.metadata (1.0 kB)\n",
            "Collecting jupyter-client>=6.1.12 (from ipykernel)\n",
            "  Downloading jupyter_client-8.6.0-py3-none-any.whl.metadata (8.3 kB)\n",
            "Collecting jupyter-core!=5.0.*,>=4.12 (from ipykernel)\n",
            "  Downloading jupyter_core-5.7.1-py3-none-any.whl.metadata (3.4 kB)\n",
            "Collecting nest-asyncio (from ipykernel)\n",
            "  Downloading nest_asyncio-1.6.0-py3-none-any.whl.metadata (2.8 kB)\n",
            "Collecting packaging (from ipykernel)\n",
            "  Downloading packaging-23.2-py3-none-any.whl.metadata (3.2 kB)\n",
            "Collecting psutil (from ipykernel)\n",
            "  Downloading psutil-5.9.8-cp36-abi3-manylinux_2_12_x86_64.manylinux2010_x86_64.manylinux_2_17_x86_64.manylinux2014_x86_64.whl.metadata (21 kB)\n",
            "Collecting pyzmq>=24 (from ipykernel)\n",
            "  Downloading pyzmq-25.1.2-cp39-cp39-manylinux_2_12_x86_64.manylinux2010_x86_64.whl.metadata (4.9 kB)\n",
            "Collecting tornado>=6.1 (from ipykernel)\n",
            "  Downloading tornado-6.4-cp38-abi3-manylinux_2_5_x86_64.manylinux1_x86_64.manylinux_2_17_x86_64.manylinux2014_x86_64.whl.metadata (2.5 kB)\n",
            "Collecting wcwidth (from prompt_toolkit)\n",
            "  Downloading wcwidth-0.2.13-py2.py3-none-any.whl.metadata (14 kB)\n",
            "Collecting pyparsing!=3.0.0,!=3.0.1,!=3.0.2,!=3.0.3,<4,>=2.4.2 (from httplib2)\n",
            "  Downloading pyparsing-3.1.1-py3-none-any.whl.metadata (5.1 kB)\n",
            "Collecting parso<0.9.0,>=0.8.3 (from jedi>=0.16->ipython)\n",
            "  Downloading parso-0.8.3-py2.py3-none-any.whl (100 kB)\n",
            "\u001b[2K     \u001b[90m━━━━━━━━━━━━━━━━━━━━━━━━━━━━━━━━━━━━━━━━\u001b[0m \u001b[32m100.8/100.8 kB\u001b[0m \u001b[31m9.1 MB/s\u001b[0m eta \u001b[36m0:00:00\u001b[0m\n",
            "\u001b[?25hCollecting importlib-metadata>=4.8.3 (from jupyter-client>=6.1.12->ipykernel)\n",
            "  Downloading importlib_metadata-7.0.1-py3-none-any.whl.metadata (4.9 kB)\n",
            "Collecting python-dateutil>=2.8.2 (from jupyter-client>=6.1.12->ipykernel)\n",
            "  Downloading python_dateutil-2.8.2-py2.py3-none-any.whl (247 kB)\n",
            "\u001b[2K     \u001b[90m━━━━━━━━━━━━━━━━━━━━━━━━━━━━━━━━━━━━━━━━\u001b[0m \u001b[32m247.7/247.7 kB\u001b[0m \u001b[31m11.3 MB/s\u001b[0m eta \u001b[36m0:00:00\u001b[0m\n",
            "\u001b[?25hCollecting platformdirs>=2.5 (from jupyter-core!=5.0.*,>=4.12->ipykernel)\n",
            "  Downloading platformdirs-4.2.0-py3-none-any.whl.metadata (11 kB)\n",
            "Collecting ptyprocess>=0.5 (from pexpect>4.3->ipython)\n",
            "  Downloading ptyprocess-0.7.0-py2.py3-none-any.whl (13 kB)\n",
            "Collecting executing>=1.2.0 (from stack-data->ipython)\n",
            "  Downloading executing-2.0.1-py2.py3-none-any.whl.metadata (9.0 kB)\n",
            "Collecting asttokens>=2.1.0 (from stack-data->ipython)\n",
            "  Downloading asttokens-2.4.1-py2.py3-none-any.whl.metadata (5.2 kB)\n",
            "Collecting pure-eval (from stack-data->ipython)\n",
            "  Downloading pure_eval-0.2.2-py3-none-any.whl (11 kB)\n",
            "Requirement already satisfied: six>=1.12.0 in /usr/lib/python3/dist-packages (from asttokens>=2.1.0->stack-data->ipython) (1.16.0)\n",
            "Collecting zipp>=0.5 (from importlib-metadata>=4.8.3->jupyter-client>=6.1.12->ipykernel)\n",
            "  Downloading zipp-3.17.0-py3-none-any.whl.metadata (3.7 kB)\n",
            "Downloading ipython-8.18.1-py3-none-any.whl (808 kB)\n",
            "\u001b[2K   \u001b[90m━━━━━━━━━━━━━━━━━━━━━━━━━━━━━━━━━━━━━━━━\u001b[0m \u001b[32m808.2/808.2 kB\u001b[0m \u001b[31m26.3 MB/s\u001b[0m eta \u001b[36m0:00:00\u001b[0m\n",
            "\u001b[?25hDownloading ipykernel-6.29.0-py3-none-any.whl (116 kB)\n",
            "\u001b[2K   \u001b[90m━━━━━━━━━━━━━━━━━━━━━━━━━━━━━━━━━━━━━━━━\u001b[0m \u001b[32m116.1/116.1 kB\u001b[0m \u001b[31m10.6 MB/s\u001b[0m eta \u001b[36m0:00:00\u001b[0m\n",
            "\u001b[?25hDownloading prompt_toolkit-3.0.43-py3-none-any.whl (386 kB)\n",
            "\u001b[2K   \u001b[90m━━━━━━━━━━━━━━━━━━━━━━━━━━━━━━━━━━━━━━━━\u001b[0m \u001b[32m386.1/386.1 kB\u001b[0m \u001b[31m25.9 MB/s\u001b[0m eta \u001b[36m0:00:00\u001b[0m\n",
            "\u001b[?25hDownloading comm-0.2.1-py3-none-any.whl (7.2 kB)\n",
            "Downloading debugpy-1.8.0-cp39-cp39-manylinux_2_17_x86_64.manylinux2014_x86_64.whl (3.4 MB)\n",
            "\u001b[2K   \u001b[90m━━━━━━━━━━━━━━━━━━━━━━━━━━━━━━━━━━━━━━━━\u001b[0m \u001b[32m3.4/3.4 MB\u001b[0m \u001b[31m70.6 MB/s\u001b[0m eta \u001b[36m0:00:00\u001b[0m\n",
            "\u001b[?25hDownloading jedi-0.19.1-py2.py3-none-any.whl (1.6 MB)\n",
            "\u001b[2K   \u001b[90m━━━━━━━━━━━━━━━━━━━━━━━━━━━━━━━━━━━━━━━━\u001b[0m \u001b[32m1.6/1.6 MB\u001b[0m \u001b[31m63.0 MB/s\u001b[0m eta \u001b[36m0:00:00\u001b[0m\n",
            "\u001b[?25hDownloading jupyter_client-8.6.0-py3-none-any.whl (105 kB)\n",
            "\u001b[2K   \u001b[90m━━━━━━━━━━━━━━━━━━━━━━━━━━━━━━━━━━━━━━━━\u001b[0m \u001b[32m105.9/105.9 kB\u001b[0m \u001b[31m9.7 MB/s\u001b[0m eta \u001b[36m0:00:00\u001b[0m\n",
            "\u001b[?25hDownloading jupyter_core-5.7.1-py3-none-any.whl (28 kB)\n",
            "Downloading pexpect-4.9.0-py2.py3-none-any.whl (63 kB)\n",
            "\u001b[2K   \u001b[90m━━━━━━━━━━━━━━━━━━━━━━━━━━━━━━━━━━━━━━━━\u001b[0m \u001b[32m63.8/63.8 kB\u001b[0m \u001b[31m5.3 MB/s\u001b[0m eta \u001b[36m0:00:00\u001b[0m\n",
            "\u001b[?25hDownloading pygments-2.17.2-py3-none-any.whl (1.2 MB)\n",
            "\u001b[2K   \u001b[90m━━━━━━━━━━━━━━━━━━━━━━━━━━━━━━━━━━━━━━━━\u001b[0m \u001b[32m1.2/1.2 MB\u001b[0m \u001b[31m57.0 MB/s\u001b[0m eta \u001b[36m0:00:00\u001b[0m\n",
            "\u001b[?25hDownloading pyparsing-3.1.1-py3-none-any.whl (103 kB)\n",
            "\u001b[2K   \u001b[90m━━━━━━━━━━━━━━━━━━━━━━━━━━━━━━━━━━━━━━━━\u001b[0m \u001b[32m103.1/103.1 kB\u001b[0m \u001b[31m9.2 MB/s\u001b[0m eta \u001b[36m0:00:00\u001b[0m\n",
            "\u001b[?25hDownloading pyzmq-25.1.2-cp39-cp39-manylinux_2_12_x86_64.manylinux2010_x86_64.whl (1.1 MB)\n",
            "\u001b[2K   \u001b[90m━━━━━━━━━━━━━━━━━━━━━━━━━━━━━━━━━━━━━━━━\u001b[0m \u001b[32m1.1/1.1 MB\u001b[0m \u001b[31m48.8 MB/s\u001b[0m eta \u001b[36m0:00:00\u001b[0m\n",
            "\u001b[?25hDownloading tornado-6.4-cp38-abi3-manylinux_2_5_x86_64.manylinux1_x86_64.manylinux_2_17_x86_64.manylinux2014_x86_64.whl (435 kB)\n",
            "\u001b[2K   \u001b[90m━━━━━━━━━━━━━━━━━━━━━━━━━━━━━━━━━━━━━━━━\u001b[0m \u001b[32m435.4/435.4 kB\u001b[0m \u001b[31m32.4 MB/s\u001b[0m eta \u001b[36m0:00:00\u001b[0m\n",
            "\u001b[?25hDownloading traitlets-5.14.1-py3-none-any.whl (85 kB)\n",
            "\u001b[2K   \u001b[90m━━━━━━━━━━━━━━━━━━━━━━━━━━━━━━━━━━━━━━━━\u001b[0m \u001b[32m85.4/85.4 kB\u001b[0m \u001b[31m7.9 MB/s\u001b[0m eta \u001b[36m0:00:00\u001b[0m\n",
            "\u001b[?25hDownloading exceptiongroup-1.2.0-py3-none-any.whl (16 kB)\n",
            "Downloading nest_asyncio-1.6.0-py3-none-any.whl (5.2 kB)\n",
            "Downloading packaging-23.2-py3-none-any.whl (53 kB)\n",
            "\u001b[2K   \u001b[90m━━━━━━━━━━━━━━━━━━━━━━━━━━━━━━━━━━━━━━━━\u001b[0m \u001b[32m53.0/53.0 kB\u001b[0m \u001b[31m4.4 MB/s\u001b[0m eta \u001b[36m0:00:00\u001b[0m\n",
            "\u001b[?25hDownloading psutil-5.9.8-cp36-abi3-manylinux_2_12_x86_64.manylinux2010_x86_64.manylinux_2_17_x86_64.manylinux2014_x86_64.whl (288 kB)\n",
            "\u001b[2K   \u001b[90m━━━━━━━━━━━━━━━━━━━━━━━━━━━━━━━━━━━━━━━━\u001b[0m \u001b[32m288.2/288.2 kB\u001b[0m \u001b[31m21.4 MB/s\u001b[0m eta \u001b[36m0:00:00\u001b[0m\n",
            "\u001b[?25hDownloading stack_data-0.6.3-py3-none-any.whl (24 kB)\n",
            "Downloading typing_extensions-4.9.0-py3-none-any.whl (32 kB)\n",
            "Downloading wcwidth-0.2.13-py2.py3-none-any.whl (34 kB)\n",
            "Downloading asttokens-2.4.1-py2.py3-none-any.whl (27 kB)\n",
            "Downloading executing-2.0.1-py2.py3-none-any.whl (24 kB)\n",
            "Downloading importlib_metadata-7.0.1-py3-none-any.whl (23 kB)\n",
            "Downloading platformdirs-4.2.0-py3-none-any.whl (17 kB)\n",
            "Downloading zipp-3.17.0-py3-none-any.whl (7.4 kB)\n",
            "Installing collected packages: wcwidth, pure-eval, ptyprocess, ipython_genutils, zipp, typing-extensions, traitlets, tornado, pyzmq, python-dateutil, pyparsing, pygments, psutil, prompt_toolkit, platformdirs, pexpect, parso, packaging, nest-asyncio, executing, exceptiongroup, decorator, debugpy, asttokens, astor, stack-data, matplotlib-inline, jupyter-core, jedi, importlib-metadata, httplib2, comm, jupyter-client, ipython, ipykernel, jupyter_console\n",
            "Successfully installed astor-0.8.1 asttokens-2.4.1 comm-0.2.1 debugpy-1.8.0 decorator-5.1.1 exceptiongroup-1.2.0 executing-2.0.1 httplib2-0.22.0 importlib-metadata-7.0.1 ipykernel-6.29.0 ipython-8.18.1 ipython_genutils-0.2.0 jedi-0.19.1 jupyter-client-8.6.0 jupyter-core-5.7.1 jupyter_console-6.6.3 matplotlib-inline-0.1.6 nest-asyncio-1.6.0 packaging-23.2 parso-0.8.3 pexpect-4.9.0 platformdirs-4.2.0 prompt_toolkit-3.0.43 psutil-5.9.8 ptyprocess-0.7.0 pure-eval-0.2.2 pygments-2.17.2 pyparsing-3.1.1 python-dateutil-2.8.2 pyzmq-25.1.2 stack-data-0.6.3 tornado-6.4 traitlets-5.14.1 typing-extensions-4.9.0 wcwidth-0.2.13 zipp-3.17.0\n",
            "\u001b[33mWARNING: Running pip as the 'root' user can result in broken permissions and conflicting behaviour with the system package manager. It is recommended to use a virtual environment instead: https://pip.pypa.io/warnings/venv\u001b[0m\u001b[33m\n",
            "\u001b[0m"
          ]
        }
      ]
    },
    {
      "cell_type": "code",
      "source": [
        "!ln -s /usr/local/lib/python3/dist-packages/google /usr/local/lib/python3.9/dist-packages/google"
      ],
      "metadata": {
        "colab": {
          "base_uri": "https://localhost:8080/"
        },
        "id": "ogMze575-csA",
        "outputId": "a7d6358f-8dc2-480e-94f4-36a78edf144d"
      },
      "execution_count": null,
      "outputs": [
        {
          "output_type": "stream",
          "name": "stdout",
          "text": [
            "ln: failed to create symbolic link '/usr/local/lib/python3.9/dist-packages/google': No such file or directory\n"
          ]
        }
      ]
    },
    {
      "cell_type": "code",
      "source": [
        "!kill -9 -1"
      ],
      "metadata": {
        "id": "GC0dP0PZ-L2s"
      },
      "execution_count": null,
      "outputs": []
    },
    {
      "cell_type": "code",
      "source": [
        "!pip install pyeeg"
      ],
      "metadata": {
        "colab": {
          "base_uri": "https://localhost:8080/"
        },
        "id": "e_WDycTp_W2p",
        "outputId": "db7f348b-785e-43b0-bc87-9dc56e0876d5"
      },
      "execution_count": null,
      "outputs": [
        {
          "output_type": "stream",
          "name": "stdout",
          "text": [
            "Collecting pyeeg\n",
            "  Downloading pyeeg-0.0.2-py3-none-any.whl (3.1 kB)\n",
            "Collecting websocket (from pyeeg)\n",
            "  Downloading websocket-0.2.1.tar.gz (195 kB)\n",
            "\u001b[2K     \u001b[90m━━━━━━━━━━━━━━━━━━━━━━━━━━━━━━━━━━━━━━━━\u001b[0m \u001b[32m195.3/195.3 kB\u001b[0m \u001b[31m3.6 MB/s\u001b[0m eta \u001b[36m0:00:00\u001b[0m\n",
            "\u001b[?25h  Preparing metadata (setup.py) ... \u001b[?25l\u001b[?25hdone\n",
            "Requirement already satisfied: websocket-client in /usr/local/lib/python3.10/dist-packages (from pyeeg) (1.7.0)\n",
            "Collecting gevent (from websocket->pyeeg)\n",
            "  Downloading gevent-23.9.1-cp310-cp310-manylinux_2_28_x86_64.whl (6.4 MB)\n",
            "\u001b[2K     \u001b[90m━━━━━━━━━━━━━━━━━━━━━━━━━━━━━━━━━━━━━━━━\u001b[0m \u001b[32m6.4/6.4 MB\u001b[0m \u001b[31m20.3 MB/s\u001b[0m eta \u001b[36m0:00:00\u001b[0m\n",
            "\u001b[?25hRequirement already satisfied: greenlet in /usr/local/lib/python3.10/dist-packages (from websocket->pyeeg) (3.0.3)\n",
            "Collecting zope.event (from gevent->websocket->pyeeg)\n",
            "  Downloading zope.event-5.0-py3-none-any.whl (6.8 kB)\n",
            "Collecting zope.interface (from gevent->websocket->pyeeg)\n",
            "  Downloading zope.interface-6.1-cp310-cp310-manylinux_2_5_x86_64.manylinux1_x86_64.manylinux_2_17_x86_64.manylinux2014_x86_64.whl (247 kB)\n",
            "\u001b[2K     \u001b[90m━━━━━━━━━━━━━━━━━━━━━━━━━━━━━━━━━━━━━━━━\u001b[0m \u001b[32m247.1/247.1 kB\u001b[0m \u001b[31m25.9 MB/s\u001b[0m eta \u001b[36m0:00:00\u001b[0m\n",
            "\u001b[?25hRequirement already satisfied: setuptools in /usr/local/lib/python3.10/dist-packages (from zope.event->gevent->websocket->pyeeg) (67.7.2)\n",
            "Building wheels for collected packages: websocket\n",
            "  Building wheel for websocket (setup.py) ... \u001b[?25l\u001b[?25hdone\n",
            "  Created wheel for websocket: filename=websocket-0.2.1-py3-none-any.whl size=192113 sha256=14cb844a70033388bb6bdf9ad7400951415e3f6cc5052dd8dda0722933fc1ea6\n",
            "  Stored in directory: /root/.cache/pip/wheels/4a/26/a1/27748366e5f1592b3ff2b896a45fe35be66c257b7926bc5b08\n",
            "Successfully built websocket\n",
            "Installing collected packages: zope.interface, zope.event, gevent, websocket, pyeeg\n",
            "Successfully installed gevent-23.9.1 pyeeg-0.0.2 websocket-0.2.1 zope.event-5.0 zope.interface-6.1\n"
          ]
        }
      ]
    },
    {
      "cell_type": "code",
      "source": [
        "! git clone https://github.com/forrestbao/pyeeg.git\n",
        "! cd pyeeg\n",
        "!python setup.py install\n",
        "! python setup.py install --user"
      ],
      "metadata": {
        "colab": {
          "base_uri": "https://localhost:8080/"
        },
        "id": "47-m-vnh_vWx",
        "outputId": "422e6f38-97bd-4897-9b3a-f18c95a52da6"
      },
      "execution_count": null,
      "outputs": [
        {
          "output_type": "stream",
          "name": "stdout",
          "text": [
            "fatal: destination path 'pyeeg' already exists and is not an empty directory.\n",
            "python3: can't open file '/content/setup.py': [Errno 2] No such file or directory\n",
            "python3: can't open file '/content/setup.py': [Errno 2] No such file or directory\n"
          ]
        }
      ]
    },
    {
      "cell_type": "code",
      "source": [
        "!pip install nolds\n",
        "\n",
        "import nolds\n",
        "import numpy as np\n",
        "from time import sleep"
      ],
      "metadata": {
        "colab": {
          "base_uri": "https://localhost:8080/"
        },
        "id": "y5jJY7F_5fO7",
        "outputId": "f52ae3b2-6328-4231-bb25-f1998b0d9153"
      },
      "execution_count": null,
      "outputs": [
        {
          "output_type": "stream",
          "name": "stdout",
          "text": [
            "Collecting nolds\n",
            "  Downloading nolds-0.5.2-py2.py3-none-any.whl (39 kB)\n",
            "Requirement already satisfied: numpy in /usr/local/lib/python3.10/dist-packages (from nolds) (1.23.5)\n",
            "Requirement already satisfied: future in /usr/local/lib/python3.10/dist-packages (from nolds) (0.18.3)\n",
            "Requirement already satisfied: setuptools in /usr/local/lib/python3.10/dist-packages (from nolds) (67.7.2)\n",
            "Installing collected packages: nolds\n",
            "Successfully installed nolds-0.5.2\n"
          ]
        }
      ]
    },
    {
      "cell_type": "code",
      "source": [
        "!pip install entropy\n"
      ],
      "metadata": {
        "colab": {
          "base_uri": "https://localhost:8080/"
        },
        "id": "ODb4_74pz1s3",
        "outputId": "09c635b9-a7f1-4d7c-87cc-4e4ab86383ae"
      },
      "execution_count": null,
      "outputs": [
        {
          "output_type": "stream",
          "name": "stdout",
          "text": [
            "Collecting entropy\n",
            "  Downloading entropy-0.1.5.tar.gz (5.3 kB)\n",
            "  Preparing metadata (setup.py) ... \u001b[?25l\u001b[?25hdone\n",
            "Collecting colorama>=0.4.3 (from entropy)\n",
            "  Downloading colorama-0.4.6-py2.py3-none-any.whl (25 kB)\n",
            "Collecting docopt>=0.6.2 (from entropy)\n",
            "  Downloading docopt-0.6.2.tar.gz (25 kB)\n",
            "  Preparing metadata (setup.py) ... \u001b[?25l\u001b[?25hdone\n",
            "Requirement already satisfied: setuptools>=42.0.2 in /usr/local/lib/python3.10/dist-packages (from entropy) (67.7.2)\n",
            "Building wheels for collected packages: entropy, docopt\n",
            "  Building wheel for entropy (setup.py) ... \u001b[?25l\u001b[?25hdone\n",
            "  Created wheel for entropy: filename=entropy-0.1.5-py3-none-any.whl size=7177 sha256=9ddca004b5f45648d45b89786ef5e8efd50a2e1bb0b37544352021030cc3432f\n",
            "  Stored in directory: /root/.cache/pip/wheels/7b/ae/a5/3981344d7be76f408fc6c9c280cb1706f033d4c1018913897a\n",
            "  Building wheel for docopt (setup.py) ... \u001b[?25l\u001b[?25hdone\n",
            "  Created wheel for docopt: filename=docopt-0.6.2-py2.py3-none-any.whl size=13706 sha256=35a0856bc7b50547f765712018ba1f56945562c589268f08f1a7de8fb37a868c\n",
            "  Stored in directory: /root/.cache/pip/wheels/fc/ab/d4/5da2067ac95b36618c629a5f93f809425700506f72c9732fac\n",
            "Successfully built entropy docopt\n",
            "Installing collected packages: docopt, colorama, entropy\n",
            "Successfully installed colorama-0.4.6 docopt-0.6.2 entropy-0.1.5\n"
          ]
        }
      ]
    },
    {
      "cell_type": "code",
      "source": [
        "print(len(matB))\n"
      ],
      "metadata": {
        "colab": {
          "base_uri": "https://localhost:8080/"
        },
        "id": "xN8ROonVz4RT",
        "outputId": "0f6644ce-2452-435b-f134-55c55c44f91a"
      },
      "execution_count": null,
      "outputs": [
        {
          "output_type": "stream",
          "name": "stdout",
          "text": [
            "4097\n"
          ]
        }
      ]
    },
    {
      "cell_type": "code",
      "source": [
        "import numpy as np\n",
        "from sklearn.model_selection import train_test_split\n",
        "from sklearn.svm import SVC\n",
        "from sklearn.metrics import accuracy_score\n"
      ],
      "metadata": {
        "id": "MxB6dINzZ9ud"
      },
      "execution_count": null,
      "outputs": []
    },
    {
      "cell_type": "code",
      "source": [
        "labels_B = np.ones(matB.shape[0])\n",
        "labels_C = np.ones(matC.shape[0]) * 2\n",
        "labels_E = np.ones(matE.shape[0]) * 3\n",
        "data = np.vstack((matB, matC, matE))\n",
        "labels = np.hstack((labels_B, labels_C, labels_E))\n",
        "X_train, X_test, y_train, y_test = train_test_split(data, labels, test_size=0.2, random_state=42)\n",
        "svm_model = SVC(kernel='rbf')\n",
        "svm_model.fit(X_train, y_train)\n",
        "y_pred = svm_model.predict(X_test)\n",
        "accuracy1 = accuracy_score(y_test, y_pred)\n",
        "print(\"Accuracy:\", accuracy1)"
      ],
      "metadata": {
        "colab": {
          "base_uri": "https://localhost:8080/"
        },
        "id": "K-IkIqGraC8w",
        "outputId": "f1fbfded-e3b3-416c-92b3-4efad94d5be3"
      },
      "execution_count": null,
      "outputs": [
        {
          "output_type": "stream",
          "name": "stdout",
          "text": [
            "Accuracy: 1.0\n"
          ]
        }
      ]
    },
    {
      "cell_type": "code",
      "source": [
        "labels_B = np.ones(matB.shape[0])\n",
        "labels_C = np.ones(matC.shape[0]) * 2\n",
        "labels_E = np.ones(matE.shape[0]) * 3\n",
        "data = np.vstack((matB, matC, matE))\n",
        "labels = np.hstack((labels_B, labels_C, labels_E))\n",
        "X_train, X_test, y_train, y_test = train_test_split(data, labels, test_size=0.2, random_state=42)\n",
        "svm_model = SVC(kernel='poly', degree=2)\n",
        "svm_model.fit(X_train, y_train)\n",
        "y_pred = svm_model.predict(X_test)\n",
        "accuracy2 = accuracy_score(y_test, y_pred)\n",
        "print(\"Accuracy:\", accuracy2)"
      ],
      "metadata": {
        "colab": {
          "base_uri": "https://localhost:8080/"
        },
        "id": "521gl1Okbs_D",
        "outputId": "a91df52c-09d8-420a-f4b9-42faf7422e6b"
      },
      "execution_count": null,
      "outputs": [
        {
          "output_type": "stream",
          "name": "stdout",
          "text": [
            "Accuracy: 0.9995933306222041\n"
          ]
        }
      ]
    },
    {
      "cell_type": "code",
      "source": [
        "labels_B = np.ones(matB.shape[0])\n",
        "labels_C = np.ones(matC.shape[0]) * 2\n",
        "labels_E = np.ones(matE.shape[0]) * 3\n",
        "data = np.vstack((matB, matC, matE))\n",
        "labels = np.hstack((labels_B, labels_C, labels_E))\n",
        "X_train, X_test, y_train, y_test = train_test_split(data, labels, test_size=0.2, random_state=42)\n",
        "svm_model = SVC(kernel='sigmoid')\n",
        "svm_model.fit(X_train, y_train)\n",
        "y_pred = svm_model.predict(X_test)\n",
        "accuracy3 = accuracy_score(y_test, y_pred)\n",
        "print(\"Accuracy:\", accuracy3)"
      ],
      "metadata": {
        "colab": {
          "base_uri": "https://localhost:8080/"
        },
        "id": "4Sqq8R1Vb3RJ",
        "outputId": "459f37fc-94c0-44f5-8280-48882be50ccb"
      },
      "execution_count": null,
      "outputs": [
        {
          "output_type": "stream",
          "name": "stdout",
          "text": [
            "Accuracy: 0.6380642537616917\n"
          ]
        }
      ]
    },
    {
      "cell_type": "code",
      "source": [
        "import matplotlib.pyplot as plt\n",
        "models = ['RBF', 'POLY', 'SIGMOID']\n",
        "accuracies = [accuracy1, accuracy2, accuracy3]\n",
        "plt.plot(models, accuracies, marker='o', linestyle='-')\n",
        "plt.xlabel('Model')\n",
        "plt.ylabel('Accuracy')\n",
        "plt.title('Accuracy of SVC with various kernel')\n",
        "plt.savefig(\"fig2.png\")\n",
        "plt.show()\n"
      ],
      "metadata": {
        "colab": {
          "base_uri": "https://localhost:8080/",
          "height": 472
        },
        "id": "81X-j3EljxP0",
        "outputId": "5d4a9907-8f0e-4ae7-b38e-76e11091ecd2"
      },
      "execution_count": null,
      "outputs": [
        {
          "output_type": "display_data",
          "data": {
            "text/plain": [
              "<Figure size 640x480 with 1 Axes>"
            ],
            "image/png": "[encoded data removed]"
          },
          "metadata": {}
        }
      ]
    },
    {
      "cell_type": "code",
      "source": [
        "hl,      = plt.plot(matB[0],label='pre-ictal')\n",
        "trans,   = plt.plot(matC[0],label='Inter-ictal')\n",
        "seizure, = plt.plot(matE[0],label='post-ictal')\n",
        "print(matB)\n",
        "plt.legend(handles=[hl,trans,seizure])\n",
        "plt.savefig(\"fig1.png\")"
      ],
      "metadata": {
        "colab": {
          "base_uri": "https://localhost:8080/",
          "height": 551
        },
        "id": "WO6Ygz045NPd",
        "outputId": "9de459a6-6bd0-4d8d-ea99-31f564a32ecd"
      },
      "execution_count": null,
      "outputs": [
        {
          "output_type": "stream",
          "name": "stdout",
          "text": [
            "[[-24. -55. -36. ...  27.  -6. -18.]\n",
            " [-22. -48. -40. ...   4. -19. -13.]\n",
            " [-17. -48. -36. ...   1. -47.   0.]\n",
            " ...\n",
            " [ 22. -84.  37. ...  65. -62.  52.]\n",
            " [  9. -60.  20. ...  47. -43.  -4.]\n",
            " [-74.  40. -39. ...  36. -42. -56.]]\n"
          ]
        },
        {
          "output_type": "display_data",
          "data": {
            "text/plain": [
              "<Figure size 640x480 with 1 Axes>"
            ],
            "image/png": "[encoded data removed]"
          },
          "metadata": {}
        }
      ]
    }
  ],
  "metadata": {
    "kernelspec": {
      "display_name": "Python 3",
      "language": "python",
      "name": "python3"
    },
    "language_info": {
      "name": "python",
      "version": "3.6.6",
      "mimetype": "text/x-python",
      "codemirror_mode": {
        "name": "ipython",
        "version": 3
      },
      "pygments_lexer": "ipython3",
      "nbconvert_exporter": "python",
      "file_extension": ".py"
    },
    "colab": {
      "provenance": []
    }
  },
  "nbformat": 4,
  "nbformat_minor": 0
}